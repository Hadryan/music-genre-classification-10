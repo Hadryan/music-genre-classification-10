{
  "nbformat": 4,
  "nbformat_minor": 0,
  "metadata": {
    "colab": {
      "name": "echo_nest.ipynb",
      "private_outputs": true,
      "provenance": [],
      "authorship_tag": "ABX9TyMxK9kQyBKXCwbziLMWAS5G",
      "include_colab_link": true
    },
    "kernelspec": {
      "name": "python3",
      "display_name": "Python 3"
    }
  },
  "cells": [
    {
      "cell_type": "markdown",
      "metadata": {
        "id": "view-in-github",
        "colab_type": "text"
      },
      "source": [
        "<a href=\"https://colab.research.google.com/github/saurabhsangwan/music-genre-classification/blob/main/echo_nest.ipynb\" target=\"_parent\"><img src=\"https://colab.research.google.com/assets/colab-badge.svg\" alt=\"Open In Colab\"/></a>"
      ]
    },
    {
      "cell_type": "code",
      "metadata": {
        "id": "aFmHuPsCeat7"
      },
      "source": [
        "# Mount Google Drive\n",
        "from google.colab import drive # import drive from google colab\n",
        "\n",
        "ROOT = \"/content/drive\"     # default location for the drive\n",
        "print(ROOT)                 # print content of ROOT (Optional)\n",
        "\n",
        "drive.mount(ROOT)  "
      ],
      "execution_count": null,
      "outputs": []
    },
    {
      "cell_type": "code",
      "metadata": {
        "id": "Oj9DswSZet6E"
      },
      "source": [
        "%cd drive/MyDrive/IDS/"
      ],
      "execution_count": null,
      "outputs": []
    },
    {
      "cell_type": "code",
      "metadata": {
        "id": "p_rj62veew-9"
      },
      "source": [
        "import pandas as pd\n",
        "import os"
      ],
      "execution_count": null,
      "outputs": []
    },
    {
      "cell_type": "code",
      "metadata": {
        "id": "rFUu9g0qfAxX"
      },
      "source": [
        "echo_nest = pd.read_csv(\"fma_metadata/raw_echonest.csv\")[['track_id','acousticness','danceability','energy','instrumentalness','liveness','speechiness','tempo','valence']]\n",
        "print (echo_nest.count())\n",
        "#echo_nest = pd.read_csv(\"fma_metadata/raw_echonest.csv\")"
      ],
      "execution_count": null,
      "outputs": []
    },
    {
      "cell_type": "code",
      "metadata": {
        "id": "jejLloPhke_o"
      },
      "source": [
        "print(echo_nest.columns)"
      ],
      "execution_count": null,
      "outputs": []
    },
    {
      "cell_type": "code",
      "metadata": {
        "id": "9syQ8_PkmSOd"
      },
      "source": [
        "echo_nest1 = echo_nest.head(8000)"
      ],
      "execution_count": null,
      "outputs": []
    },
    {
      "cell_type": "code",
      "metadata": {
        "id": "rVHrwaSGmXuD"
      },
      "source": [
        "echo_nest1.info()"
      ],
      "execution_count": null,
      "outputs": []
    },
    {
      "cell_type": "code",
      "metadata": {
        "id": "f2AsuKsuqkjM"
      },
      "source": [
        "#echo_nest1 = pd.DataFrame(list())\n",
        "echo_nest1.to_csv('music-genre-classification/data/echonest.csv',index=False) "
      ],
      "execution_count": null,
      "outputs": []
    },
    {
      "cell_type": "code",
      "metadata": {
        "id": "f340OB3G6tt8"
      },
      "source": [
        ""
      ],
      "execution_count": null,
      "outputs": []
    },
    {
      "cell_type": "code",
      "metadata": {
        "id": "J-uSAKLu6t04"
      },
      "source": [
        "#combining csv"
      ],
      "execution_count": null,
      "outputs": []
    },
    {
      "cell_type": "code",
      "metadata": {
        "id": "r7TchlKZ--2h"
      },
      "source": [
        "echo_nest = pd.read_csv(\"music-genre-classification/data/echonest.csv\")\n",
        "features = pd.read_csv(\"music-genre-classification/data/features.csv\")"
      ],
      "execution_count": null,
      "outputs": []
    },
    {
      "cell_type": "code",
      "metadata": {
        "id": "dNW8YRzx_1o2"
      },
      "source": [
        "echo_nest.info()"
      ],
      "execution_count": null,
      "outputs": []
    },
    {
      "cell_type": "code",
      "metadata": {
        "id": "viDEjLQs_mwY"
      },
      "source": [
        "echo_nest.duplicated()"
      ],
      "execution_count": null,
      "outputs": []
    },
    {
      "cell_type": "code",
      "metadata": {
        "id": "G_XthSTz6t0D"
      },
      "source": [
        "final = echo_nest.merge(features, on='track_id')"
      ],
      "execution_count": null,
      "outputs": []
    },
    {
      "cell_type": "code",
      "metadata": {
        "id": "YF_fvfNHA3lr"
      },
      "source": [
        "final.info()"
      ],
      "execution_count": null,
      "outputs": []
    },
    {
      "cell_type": "code",
      "metadata": {
        "id": "96XkS0t9A8Jl"
      },
      "source": [
        "#final = echo_nest.merge(features, on='track_id')"
      ],
      "execution_count": null,
      "outputs": []
    },
    {
      "cell_type": "code",
      "metadata": {
        "id": "evCviK8fBC7X"
      },
      "source": [
        ""
      ],
      "execution_count": null,
      "outputs": []
    }
  ]
}