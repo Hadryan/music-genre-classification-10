{
  "nbformat": 4,
  "nbformat_minor": 0,
  "metadata": {
    "colab": {
      "name": "echo_nest.ipynb",
      "private_outputs": true,
      "provenance": [],
      "collapsed_sections": [],
      "authorship_tag": "ABX9TyPX08L7axvsQ7nsiWjGSgSi",
      "include_colab_link": true
    },
    "kernelspec": {
      "name": "python3",
      "display_name": "Python 3"
    }
  },
  "cells": [
    {
      "cell_type": "markdown",
      "metadata": {
        "id": "view-in-github",
        "colab_type": "text"
      },
      "source": [
        "<a href=\"https://colab.research.google.com/github/saurabhsangwan/music-genre-classification/blob/main/echo_nest.ipynb\" target=\"_parent\"><img src=\"https://colab.research.google.com/assets/colab-badge.svg\" alt=\"Open In Colab\"/></a>"
      ]
    },
    {
      "cell_type": "code",
      "metadata": {
        "id": "aFmHuPsCeat7"
      },
      "source": [
        "# Mount Google Drive\n",
        "from google.colab import drive # import drive from google colab\n",
        "\n",
        "ROOT = \"/content/drive\"     # default location for the drive\n",
        "print(ROOT)                 # print content of ROOT (Optional)\n",
        "\n",
        "drive.mount(ROOT)  "
      ],
      "execution_count": null,
      "outputs": []
    },
    {
      "cell_type": "code",
      "metadata": {
        "id": "Oj9DswSZet6E"
      },
      "source": [
        "%cd drive/MyDrive/IDS/"
      ],
      "execution_count": null,
      "outputs": []
    },
    {
      "cell_type": "markdown",
      "metadata": {
        "id": "u-tPAJUAEBSl"
      },
      "source": [
        "Extracting specific columns from raw_echonest file"
      ]
    },
    {
      "cell_type": "code",
      "metadata": {
        "id": "p_rj62veew-9"
      },
      "source": [
        "import pandas as pd\n",
        "import os"
      ],
      "execution_count": null,
      "outputs": []
    },
    {
      "cell_type": "code",
      "metadata": {
        "id": "rFUu9g0qfAxX"
      },
      "source": [
        "echo_nest = pd.read_csv(\"fma_metadata/raw_echonest.csv\")[['track_id','acousticness','danceability','energy','instrumentalness','liveness','speechiness','tempo','valence']]\n",
        "print (echo_nest.count())\n",
        "#echo_nest = pd.read_csv(\"fma_metadata/raw_echonest.csv\")\n",
        "tracks = pd.read_csv(\"music-genre-classification/final_tracks.csv\")\n",
        "tracks= tracks.drop(columns=['genre_title', 'genre_parent_title'])"
      ],
      "execution_count": null,
      "outputs": []
    },
    {
      "cell_type": "code",
      "metadata": {
        "id": "jejLloPhke_o"
      },
      "source": [
        "print(echo_nest.count)"
      ],
      "execution_count": null,
      "outputs": []
    },
    {
      "cell_type": "code",
      "metadata": {
        "id": "-E9goxhDlemQ"
      },
      "source": [
        "tracks.count"
      ],
      "execution_count": null,
      "outputs": []
    },
    {
      "cell_type": "code",
      "metadata": {
        "id": "9syQ8_PkmSOd"
      },
      "source": [
        "echo_nest1 = pd.concat([tracks, echo_nest],  axis=1, sort=False, join='inner')"
      ],
      "execution_count": null,
      "outputs": []
    },
    {
      "cell_type": "code",
      "metadata": {
        "id": "rVHrwaSGmXuD"
      },
      "source": [
        "echo_nest1.info()"
      ],
      "execution_count": null,
      "outputs": []
    },
    {
      "cell_type": "code",
      "metadata": {
        "id": "f2AsuKsuqkjM"
      },
      "source": [
        "#save the dataframe to csv file\n",
        "echo_nest1.to_csv('music-genre-classification/data/echonest.csv',index=False) "
      ],
      "execution_count": null,
      "outputs": []
    },
    {
      "cell_type": "markdown",
      "metadata": {
        "id": "Jli3VGE4EUxy"
      },
      "source": [
        "**combining/merging csv from tracks, echonest and features files**"
      ]
    },
    {
      "cell_type": "code",
      "metadata": {
        "id": "r7TchlKZ--2h"
      },
      "source": [
        "echo_nest = pd.read_csv(\"music-genre-classification/data/echonest.csv\")\n",
        "features = pd.read_csv(\"music-genre-classification/data/features.csv\")\n",
        "tracks = pd.read_csv(\"music-genre-classification/final_tracks.csv\")"
      ],
      "execution_count": null,
      "outputs": []
    },
    {
      "cell_type": "code",
      "metadata": {
        "id": "dNW8YRzx_1o2"
      },
      "source": [
        "echo_nest.count()"
      ],
      "execution_count": null,
      "outputs": []
    },
    {
      "cell_type": "code",
      "metadata": {
        "id": "armBRI-Yphpp"
      },
      "source": [
        "features.count()"
      ],
      "execution_count": null,
      "outputs": []
    },
    {
      "cell_type": "code",
      "metadata": {
        "id": "vRS_7zVwpjtQ"
      },
      "source": [
        "tracks.count()"
      ],
      "execution_count": null,
      "outputs": []
    },
    {
      "cell_type": "code",
      "metadata": {
        "id": "viDEjLQs_mwY"
      },
      "source": [
        "tracks.duplicated()"
      ],
      "execution_count": null,
      "outputs": []
    },
    {
      "cell_type": "code",
      "metadata": {
        "id": "G_XthSTz6t0D"
      },
      "source": [
        "merge1 =  pd.concat([tracks, features,echo_nest],  axis=1, sort=False,join='inner')"
      ],
      "execution_count": null,
      "outputs": []
    },
    {
      "cell_type": "code",
      "metadata": {
        "id": "YF_fvfNHA3lr"
      },
      "source": [
        "merge1.count()"
      ],
      "execution_count": null,
      "outputs": []
    },
    {
      "cell_type": "code",
      "metadata": {
        "id": "96XkS0t9A8Jl"
      },
      "source": [
        "#merge2 = pd.concat([merge1, echo_nest],  axis=1, sort=False,join='inner')"
      ],
      "execution_count": null,
      "outputs": []
    },
    {
      "cell_type": "code",
      "metadata": {
        "id": "evCviK8fBC7X"
      },
      "source": [
        "#merge2.count()"
      ],
      "execution_count": null,
      "outputs": []
    },
    {
      "cell_type": "code",
      "metadata": {
        "id": "GBi8Wo8LC2lO"
      },
      "source": [
        "merge1.to_csv('music-genre-classification/data/final_data.csv',index=False) "
      ],
      "execution_count": null,
      "outputs": []
    },
    {
      "cell_type": "code",
      "metadata": {
        "id": "_FN7NKmNrYBm"
      },
      "source": [
        "merge1.count()"
      ],
      "execution_count": null,
      "outputs": []
    }
  ]
}