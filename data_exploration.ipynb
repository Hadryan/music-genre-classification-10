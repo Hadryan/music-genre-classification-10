{
 "cells": [
  {
   "cell_type": "markdown",
   "metadata": {
    "colab_type": "text",
    "id": "view-in-github"
   },
   "source": [
    "<a href=\"https://colab.research.google.com/github/saurabhsangwan/music-genre-classification/blob/main/data_exploration.ipynb\" target=\"_parent\"><img src=\"https://colab.research.google.com/assets/colab-badge.svg\" alt=\"Open In Colab\"/></a>"
   ]
  },
  {
   "cell_type": "code",
   "execution_count": 2,
   "metadata": {
    "id": "ZdrsZ6HFd92c"
   },
   "outputs": [
    {
     "ename": "ModuleNotFoundError",
     "evalue": "No module named 'google'",
     "output_type": "error",
     "traceback": [
      "\u001b[0;31m---------------------------------------------------------------------------\u001b[0m",
      "\u001b[0;31mModuleNotFoundError\u001b[0m                       Traceback (most recent call last)",
      "\u001b[0;32m<ipython-input-2-6945bd2aa81b>\u001b[0m in \u001b[0;36m<module>\u001b[0;34m\u001b[0m\n\u001b[1;32m      1\u001b[0m \u001b[0;31m# Mount Google Drive\u001b[0m\u001b[0;34m\u001b[0m\u001b[0;34m\u001b[0m\u001b[0m\n\u001b[0;32m----> 2\u001b[0;31m \u001b[0;32mfrom\u001b[0m \u001b[0mgoogle\u001b[0m\u001b[0;34m.\u001b[0m\u001b[0mcolab\u001b[0m \u001b[0;32mimport\u001b[0m \u001b[0mdrive\u001b[0m \u001b[0;31m# import drive from google colab\u001b[0m\u001b[0;34m\u001b[0m\u001b[0m\n\u001b[0m\u001b[1;32m      3\u001b[0m \u001b[0;34m\u001b[0m\u001b[0m\n\u001b[1;32m      4\u001b[0m \u001b[0mROOT\u001b[0m \u001b[0;34m=\u001b[0m \u001b[0;34m\"/content/drive\"\u001b[0m     \u001b[0;31m# default location for the drive\u001b[0m\u001b[0;34m\u001b[0m\u001b[0m\n\u001b[1;32m      5\u001b[0m \u001b[0mprint\u001b[0m\u001b[0;34m(\u001b[0m\u001b[0mROOT\u001b[0m\u001b[0;34m)\u001b[0m                 \u001b[0;31m# print content of ROOT (Optional)\u001b[0m\u001b[0;34m\u001b[0m\u001b[0m\n",
      "\u001b[0;31mModuleNotFoundError\u001b[0m: No module named 'google'"
     ]
    }
   ],
   "source": [
    "# Mount Google Drive\n",
    "from google.colab import drive # import drive from google colab\n",
    "\n",
    "ROOT = \"/content/drive\"     # default location for the drive\n",
    "print(ROOT)                 # print content of ROOT (Optional)\n",
    "\n",
    "drive.mount(ROOT)"
   ]
  },
  {
   "cell_type": "code",
   "execution_count": null,
   "metadata": {
    "id": "pmxP_zWPeSj9"
   },
   "outputs": [],
   "source": [
    "%cd drive/MyDrive/IDS/IDS"
   ]
  },
  {
   "cell_type": "code",
   "execution_count": 32,
   "metadata": {
    "id": "ubbO93Iselw6"
   },
   "outputs": [],
   "source": [
    "import pandas as pd\n",
    "import numpy as np\n",
    "import scipy.stats as st\n",
    "import plotly.figure_factory as ff\n",
    "import seaborn as sns\n",
    "import warnings\n",
    "import pandas as pd\n",
    "import numpy as np\n",
    "from sklearn.model_selection import train_test_split, KFold, cross_val_score\n",
    "from sklearn.preprocessing import StandardScaler  \n",
    "from sklearn.model_selection import train_test_split\n",
    "from sklearn.linear_model import LinearRegression\n",
    "from sklearn import linear_model\n",
    "from sklearn.cluster import KMeans, DBSCAN\n",
    "from sklearn import metrics\n",
    "import seaborn as sns\n",
    "import matplotlib.pyplot as plt\n",
    "from sklearn.tree import DecisionTreeClassifier\n",
    "from sklearn.neighbors import KNeighborsClassifier \n",
    "from sklearn.naive_bayes import GaussianNB\n",
    "from sklearn.svm import SVC\n",
    "import plotly.figure_factory as ff\n",
    "from sklearn.feature_selection import SelectKBest, f_classif"
   ]
  },
  {
   "cell_type": "code",
   "execution_count": 8,
   "metadata": {
    "id": "8vxReuRNeaTJ"
   },
   "outputs": [
    {
     "data": {
      "text/html": [
       "<div>\n",
       "<style scoped>\n",
       "    .dataframe tbody tr th:only-of-type {\n",
       "        vertical-align: middle;\n",
       "    }\n",
       "\n",
       "    .dataframe tbody tr th {\n",
       "        vertical-align: top;\n",
       "    }\n",
       "\n",
       "    .dataframe thead th {\n",
       "        text-align: right;\n",
       "    }\n",
       "</style>\n",
       "<table border=\"1\" class=\"dataframe\">\n",
       "  <thead>\n",
       "    <tr style=\"text-align: right;\">\n",
       "      <th></th>\n",
       "      <th>Unnamed: 0</th>\n",
       "      <th>track_id</th>\n",
       "      <th>genre</th>\n",
       "      <th>title</th>\n",
       "      <th>chroma_cens1</th>\n",
       "      <th>chroma_cens2</th>\n",
       "      <th>chroma_cens3</th>\n",
       "      <th>chroma_cens4</th>\n",
       "      <th>chroma_cens5</th>\n",
       "      <th>chroma_cens6</th>\n",
       "      <th>...</th>\n",
       "      <th>spectral_contrast6</th>\n",
       "      <th>spectral_contrast7</th>\n",
       "      <th>spectral_rolloff1</th>\n",
       "      <th>tonnetz1</th>\n",
       "      <th>tonnetz2</th>\n",
       "      <th>tonnetz3</th>\n",
       "      <th>tonnetz4</th>\n",
       "      <th>tonnetz5</th>\n",
       "      <th>tonnetz6</th>\n",
       "      <th>zcr1</th>\n",
       "    </tr>\n",
       "  </thead>\n",
       "  <tbody>\n",
       "    <tr>\n",
       "      <th>0</th>\n",
       "      <td>0</td>\n",
       "      <td>135054</td>\n",
       "      <td>Experimental</td>\n",
       "      <td>Hari Karl (for Larry Eisenberg)</td>\n",
       "      <td>0.310373</td>\n",
       "      <td>0.308683</td>\n",
       "      <td>0.290821</td>\n",
       "      <td>0.297749</td>\n",
       "      <td>0.287629</td>\n",
       "      <td>0.260195</td>\n",
       "      <td>...</td>\n",
       "      <td>17.265811</td>\n",
       "      <td>42.597892</td>\n",
       "      <td>2571.502445</td>\n",
       "      <td>-0.002862</td>\n",
       "      <td>-0.000695</td>\n",
       "      <td>0.004706</td>\n",
       "      <td>-0.006419</td>\n",
       "      <td>0.005246</td>\n",
       "      <td>-0.001563</td>\n",
       "      <td>0.070002</td>\n",
       "    </tr>\n",
       "    <tr>\n",
       "      <th>1</th>\n",
       "      <td>1</td>\n",
       "      <td>135336</td>\n",
       "      <td>Pop</td>\n",
       "      <td>Slow and Steady</td>\n",
       "      <td>0.161290</td>\n",
       "      <td>0.161296</td>\n",
       "      <td>0.190398</td>\n",
       "      <td>0.171992</td>\n",
       "      <td>0.189878</td>\n",
       "      <td>0.187176</td>\n",
       "      <td>...</td>\n",
       "      <td>20.103589</td>\n",
       "      <td>33.081974</td>\n",
       "      <td>4486.854020</td>\n",
       "      <td>-0.006867</td>\n",
       "      <td>-0.004326</td>\n",
       "      <td>-0.092237</td>\n",
       "      <td>0.019405</td>\n",
       "      <td>-0.006026</td>\n",
       "      <td>0.015697</td>\n",
       "      <td>0.085219</td>\n",
       "    </tr>\n",
       "    <tr>\n",
       "      <th>2</th>\n",
       "      <td>2</td>\n",
       "      <td>135337</td>\n",
       "      <td>Pop</td>\n",
       "      <td>The Dream and the Dreamer</td>\n",
       "      <td>0.443386</td>\n",
       "      <td>0.357355</td>\n",
       "      <td>0.191626</td>\n",
       "      <td>0.202726</td>\n",
       "      <td>0.284854</td>\n",
       "      <td>0.236113</td>\n",
       "      <td>...</td>\n",
       "      <td>21.580315</td>\n",
       "      <td>32.187206</td>\n",
       "      <td>4382.598041</td>\n",
       "      <td>0.024635</td>\n",
       "      <td>-0.007949</td>\n",
       "      <td>0.011779</td>\n",
       "      <td>0.130071</td>\n",
       "      <td>0.014134</td>\n",
       "      <td>0.009135</td>\n",
       "      <td>0.108170</td>\n",
       "    </tr>\n",
       "    <tr>\n",
       "      <th>3</th>\n",
       "      <td>3</td>\n",
       "      <td>135043</td>\n",
       "      <td>Folk</td>\n",
       "      <td>Babel</td>\n",
       "      <td>0.141946</td>\n",
       "      <td>0.153972</td>\n",
       "      <td>0.169128</td>\n",
       "      <td>0.218597</td>\n",
       "      <td>0.385648</td>\n",
       "      <td>0.400918</td>\n",
       "      <td>...</td>\n",
       "      <td>21.147088</td>\n",
       "      <td>32.537513</td>\n",
       "      <td>4162.319868</td>\n",
       "      <td>0.017150</td>\n",
       "      <td>-0.001607</td>\n",
       "      <td>-0.063755</td>\n",
       "      <td>0.005411</td>\n",
       "      <td>0.006720</td>\n",
       "      <td>-0.011991</td>\n",
       "      <td>0.074080</td>\n",
       "    </tr>\n",
       "    <tr>\n",
       "      <th>4</th>\n",
       "      <td>4</td>\n",
       "      <td>135091</td>\n",
       "      <td>Experimental</td>\n",
       "      <td>Tree and Wind</td>\n",
       "      <td>0.017648</td>\n",
       "      <td>0.017463</td>\n",
       "      <td>0.035690</td>\n",
       "      <td>0.158926</td>\n",
       "      <td>0.163426</td>\n",
       "      <td>0.064951</td>\n",
       "      <td>...</td>\n",
       "      <td>19.401185</td>\n",
       "      <td>34.605480</td>\n",
       "      <td>4653.557040</td>\n",
       "      <td>-0.002268</td>\n",
       "      <td>-0.042291</td>\n",
       "      <td>0.160464</td>\n",
       "      <td>-0.144974</td>\n",
       "      <td>0.053375</td>\n",
       "      <td>-0.030622</td>\n",
       "      <td>0.100463</td>\n",
       "    </tr>\n",
       "  </tbody>\n",
       "</table>\n",
       "<p>5 rows × 78 columns</p>\n",
       "</div>"
      ],
      "text/plain": [
       "   Unnamed: 0  track_id         genre                            title  \\\n",
       "0           0    135054  Experimental  Hari Karl (for Larry Eisenberg)   \n",
       "1           1    135336           Pop                  Slow and Steady   \n",
       "2           2    135337           Pop        The Dream and the Dreamer   \n",
       "3           3    135043          Folk                            Babel   \n",
       "4           4    135091  Experimental                    Tree and Wind   \n",
       "\n",
       "   chroma_cens1  chroma_cens2  chroma_cens3  chroma_cens4  chroma_cens5  \\\n",
       "0      0.310373      0.308683      0.290821      0.297749      0.287629   \n",
       "1      0.161290      0.161296      0.190398      0.171992      0.189878   \n",
       "2      0.443386      0.357355      0.191626      0.202726      0.284854   \n",
       "3      0.141946      0.153972      0.169128      0.218597      0.385648   \n",
       "4      0.017648      0.017463      0.035690      0.158926      0.163426   \n",
       "\n",
       "   chroma_cens6  ...  spectral_contrast6  spectral_contrast7  \\\n",
       "0      0.260195  ...           17.265811           42.597892   \n",
       "1      0.187176  ...           20.103589           33.081974   \n",
       "2      0.236113  ...           21.580315           32.187206   \n",
       "3      0.400918  ...           21.147088           32.537513   \n",
       "4      0.064951  ...           19.401185           34.605480   \n",
       "\n",
       "   spectral_rolloff1  tonnetz1  tonnetz2  tonnetz3  tonnetz4  tonnetz5  \\\n",
       "0        2571.502445 -0.002862 -0.000695  0.004706 -0.006419  0.005246   \n",
       "1        4486.854020 -0.006867 -0.004326 -0.092237  0.019405 -0.006026   \n",
       "2        4382.598041  0.024635 -0.007949  0.011779  0.130071  0.014134   \n",
       "3        4162.319868  0.017150 -0.001607 -0.063755  0.005411  0.006720   \n",
       "4        4653.557040 -0.002268 -0.042291  0.160464 -0.144974  0.053375   \n",
       "\n",
       "   tonnetz6      zcr1  \n",
       "0 -0.001563  0.070002  \n",
       "1  0.015697  0.085219  \n",
       "2  0.009135  0.108170  \n",
       "3 -0.011991  0.074080  \n",
       "4 -0.030622  0.100463  \n",
       "\n",
       "[5 rows x 78 columns]"
      ]
     },
     "execution_count": 8,
     "metadata": {},
     "output_type": "execute_result"
    }
   ],
   "source": [
    "data = pd.read_csv(\"./data/merged_data.csv\")\n",
    "data.head()"
   ]
  },
  {
   "cell_type": "code",
   "execution_count": 9,
   "metadata": {
    "id": "Vx41TFJ-NCt0"
   },
   "outputs": [],
   "source": [
    "data= data.drop(columns=['Unnamed: 0'])"
   ]
  },
  {
   "cell_type": "code",
   "execution_count": 10,
   "metadata": {
    "id": "Mn4Q3XqPoLVI"
   },
   "outputs": [
    {
     "data": {
      "text/plain": [
       "track_id        7997\n",
       "genre           7997\n",
       "title           7997\n",
       "chroma_cens1    7997\n",
       "chroma_cens2    7997\n",
       "                ... \n",
       "tonnetz3        7997\n",
       "tonnetz4        7997\n",
       "tonnetz5        7997\n",
       "tonnetz6        7997\n",
       "zcr1            7997\n",
       "Length: 77, dtype: int64"
      ]
     },
     "execution_count": 10,
     "metadata": {},
     "output_type": "execute_result"
    }
   ],
   "source": [
    "data.count()"
   ]
  },
  {
   "cell_type": "code",
   "execution_count": 11,
   "metadata": {
    "id": "duZX9RN1NYM_"
   },
   "outputs": [
    {
     "data": {
      "text/html": [
       "<div>\n",
       "<style scoped>\n",
       "    .dataframe tbody tr th:only-of-type {\n",
       "        vertical-align: middle;\n",
       "    }\n",
       "\n",
       "    .dataframe tbody tr th {\n",
       "        vertical-align: top;\n",
       "    }\n",
       "\n",
       "    .dataframe thead th {\n",
       "        text-align: right;\n",
       "    }\n",
       "</style>\n",
       "<table border=\"1\" class=\"dataframe\">\n",
       "  <thead>\n",
       "    <tr style=\"text-align: right;\">\n",
       "      <th></th>\n",
       "      <th>track_id</th>\n",
       "      <th>genre</th>\n",
       "      <th>title</th>\n",
       "      <th>chroma_cens1</th>\n",
       "      <th>chroma_cens2</th>\n",
       "      <th>chroma_cens3</th>\n",
       "      <th>chroma_cens4</th>\n",
       "      <th>chroma_cens5</th>\n",
       "      <th>chroma_cens6</th>\n",
       "      <th>chroma_cens7</th>\n",
       "      <th>...</th>\n",
       "      <th>spectral_contrast6</th>\n",
       "      <th>spectral_contrast7</th>\n",
       "      <th>spectral_rolloff1</th>\n",
       "      <th>tonnetz1</th>\n",
       "      <th>tonnetz2</th>\n",
       "      <th>tonnetz3</th>\n",
       "      <th>tonnetz4</th>\n",
       "      <th>tonnetz5</th>\n",
       "      <th>tonnetz6</th>\n",
       "      <th>zcr1</th>\n",
       "    </tr>\n",
       "  </thead>\n",
       "  <tbody>\n",
       "    <tr>\n",
       "      <th>0</th>\n",
       "      <td>135054</td>\n",
       "      <td>Experimental</td>\n",
       "      <td>Hari Karl (for Larry Eisenberg)</td>\n",
       "      <td>0.310373</td>\n",
       "      <td>0.308683</td>\n",
       "      <td>0.290821</td>\n",
       "      <td>0.297749</td>\n",
       "      <td>0.287629</td>\n",
       "      <td>0.260195</td>\n",
       "      <td>0.229743</td>\n",
       "      <td>...</td>\n",
       "      <td>17.265811</td>\n",
       "      <td>42.597892</td>\n",
       "      <td>2571.502445</td>\n",
       "      <td>-0.002862</td>\n",
       "      <td>-0.000695</td>\n",
       "      <td>0.004706</td>\n",
       "      <td>-0.006419</td>\n",
       "      <td>0.005246</td>\n",
       "      <td>-0.001563</td>\n",
       "      <td>0.070002</td>\n",
       "    </tr>\n",
       "    <tr>\n",
       "      <th>1</th>\n",
       "      <td>135336</td>\n",
       "      <td>Pop</td>\n",
       "      <td>Slow and Steady</td>\n",
       "      <td>0.161290</td>\n",
       "      <td>0.161296</td>\n",
       "      <td>0.190398</td>\n",
       "      <td>0.171992</td>\n",
       "      <td>0.189878</td>\n",
       "      <td>0.187176</td>\n",
       "      <td>0.231823</td>\n",
       "      <td>...</td>\n",
       "      <td>20.103589</td>\n",
       "      <td>33.081974</td>\n",
       "      <td>4486.854020</td>\n",
       "      <td>-0.006867</td>\n",
       "      <td>-0.004326</td>\n",
       "      <td>-0.092237</td>\n",
       "      <td>0.019405</td>\n",
       "      <td>-0.006026</td>\n",
       "      <td>0.015697</td>\n",
       "      <td>0.085219</td>\n",
       "    </tr>\n",
       "    <tr>\n",
       "      <th>2</th>\n",
       "      <td>135337</td>\n",
       "      <td>Pop</td>\n",
       "      <td>The Dream and the Dreamer</td>\n",
       "      <td>0.443386</td>\n",
       "      <td>0.357355</td>\n",
       "      <td>0.191626</td>\n",
       "      <td>0.202726</td>\n",
       "      <td>0.284854</td>\n",
       "      <td>0.236113</td>\n",
       "      <td>0.234724</td>\n",
       "      <td>...</td>\n",
       "      <td>21.580315</td>\n",
       "      <td>32.187206</td>\n",
       "      <td>4382.598041</td>\n",
       "      <td>0.024635</td>\n",
       "      <td>-0.007949</td>\n",
       "      <td>0.011779</td>\n",
       "      <td>0.130071</td>\n",
       "      <td>0.014134</td>\n",
       "      <td>0.009135</td>\n",
       "      <td>0.108170</td>\n",
       "    </tr>\n",
       "    <tr>\n",
       "      <th>3</th>\n",
       "      <td>135043</td>\n",
       "      <td>Folk</td>\n",
       "      <td>Babel</td>\n",
       "      <td>0.141946</td>\n",
       "      <td>0.153972</td>\n",
       "      <td>0.169128</td>\n",
       "      <td>0.218597</td>\n",
       "      <td>0.385648</td>\n",
       "      <td>0.400918</td>\n",
       "      <td>0.308826</td>\n",
       "      <td>...</td>\n",
       "      <td>21.147088</td>\n",
       "      <td>32.537513</td>\n",
       "      <td>4162.319868</td>\n",
       "      <td>0.017150</td>\n",
       "      <td>-0.001607</td>\n",
       "      <td>-0.063755</td>\n",
       "      <td>0.005411</td>\n",
       "      <td>0.006720</td>\n",
       "      <td>-0.011991</td>\n",
       "      <td>0.074080</td>\n",
       "    </tr>\n",
       "    <tr>\n",
       "      <th>4</th>\n",
       "      <td>135091</td>\n",
       "      <td>Experimental</td>\n",
       "      <td>Tree and Wind</td>\n",
       "      <td>0.017648</td>\n",
       "      <td>0.017463</td>\n",
       "      <td>0.035690</td>\n",
       "      <td>0.158926</td>\n",
       "      <td>0.163426</td>\n",
       "      <td>0.064951</td>\n",
       "      <td>0.212070</td>\n",
       "      <td>...</td>\n",
       "      <td>19.401185</td>\n",
       "      <td>34.605480</td>\n",
       "      <td>4653.557040</td>\n",
       "      <td>-0.002268</td>\n",
       "      <td>-0.042291</td>\n",
       "      <td>0.160464</td>\n",
       "      <td>-0.144974</td>\n",
       "      <td>0.053375</td>\n",
       "      <td>-0.030622</td>\n",
       "      <td>0.100463</td>\n",
       "    </tr>\n",
       "  </tbody>\n",
       "</table>\n",
       "<p>5 rows × 77 columns</p>\n",
       "</div>"
      ],
      "text/plain": [
       "   track_id         genre                            title  chroma_cens1  \\\n",
       "0    135054  Experimental  Hari Karl (for Larry Eisenberg)      0.310373   \n",
       "1    135336           Pop                  Slow and Steady      0.161290   \n",
       "2    135337           Pop        The Dream and the Dreamer      0.443386   \n",
       "3    135043          Folk                            Babel      0.141946   \n",
       "4    135091  Experimental                    Tree and Wind      0.017648   \n",
       "\n",
       "   chroma_cens2  chroma_cens3  chroma_cens4  chroma_cens5  chroma_cens6  \\\n",
       "0      0.308683      0.290821      0.297749      0.287629      0.260195   \n",
       "1      0.161296      0.190398      0.171992      0.189878      0.187176   \n",
       "2      0.357355      0.191626      0.202726      0.284854      0.236113   \n",
       "3      0.153972      0.169128      0.218597      0.385648      0.400918   \n",
       "4      0.017463      0.035690      0.158926      0.163426      0.064951   \n",
       "\n",
       "   chroma_cens7  ...  spectral_contrast6  spectral_contrast7  \\\n",
       "0      0.229743  ...           17.265811           42.597892   \n",
       "1      0.231823  ...           20.103589           33.081974   \n",
       "2      0.234724  ...           21.580315           32.187206   \n",
       "3      0.308826  ...           21.147088           32.537513   \n",
       "4      0.212070  ...           19.401185           34.605480   \n",
       "\n",
       "   spectral_rolloff1  tonnetz1  tonnetz2  tonnetz3  tonnetz4  tonnetz5  \\\n",
       "0        2571.502445 -0.002862 -0.000695  0.004706 -0.006419  0.005246   \n",
       "1        4486.854020 -0.006867 -0.004326 -0.092237  0.019405 -0.006026   \n",
       "2        4382.598041  0.024635 -0.007949  0.011779  0.130071  0.014134   \n",
       "3        4162.319868  0.017150 -0.001607 -0.063755  0.005411  0.006720   \n",
       "4        4653.557040 -0.002268 -0.042291  0.160464 -0.144974  0.053375   \n",
       "\n",
       "   tonnetz6      zcr1  \n",
       "0 -0.001563  0.070002  \n",
       "1  0.015697  0.085219  \n",
       "2  0.009135  0.108170  \n",
       "3 -0.011991  0.074080  \n",
       "4 -0.030622  0.100463  \n",
       "\n",
       "[5 rows x 77 columns]"
      ]
     },
     "execution_count": 11,
     "metadata": {},
     "output_type": "execute_result"
    }
   ],
   "source": [
    "data.head()"
   ]
  },
  {
   "cell_type": "code",
   "execution_count": 12,
   "metadata": {
    "id": "TM4nPa7Aexkt"
   },
   "outputs": [
    {
     "name": "stdout",
     "output_type": "stream",
     "text": [
      "Number of variables - 77\n",
      "\n",
      "Data Types for each variable - \n",
      "track_id          int64\n",
      "genre            object\n",
      "title            object\n",
      "chroma_cens1    float64\n",
      "chroma_cens2    float64\n",
      "                 ...   \n",
      "tonnetz3        float64\n",
      "tonnetz4        float64\n",
      "tonnetz5        float64\n",
      "tonnetz6        float64\n",
      "zcr1            float64\n",
      "Length: 77, dtype: object\n",
      "\n",
      "Number of variables for each data type - \n",
      "float64    74\n",
      "object      2\n",
      "int64       1\n",
      "dtype: int64\n"
     ]
    }
   ],
   "source": [
    "#explore data\n",
    "print(f'Number of variables - {data.shape[1]}\\n')\n",
    "print(f'Data Types for each variable - \\n{data.dtypes}\\n')\n",
    "print(f'Number of variables for each data type - \\n{data.dtypes.value_counts()}')"
   ]
  },
  {
   "cell_type": "code",
   "execution_count": 13,
   "metadata": {
    "id": "tMvcRkVFfFA4"
   },
   "outputs": [
    {
     "name": "stdout",
     "output_type": "stream",
     "text": [
      "Null count for Columns - \n",
      "Series([], dtype: int64)\n",
      "\n",
      "\n"
     ]
    }
   ],
   "source": [
    "#search missing data\n",
    "#Counting Null values for each column\n",
    "null_count = data.isnull().sum()\n",
    "null_count = null_count[null_count>0]\n",
    "\n",
    "#Printing null counts for columns that have null count >0\n",
    "print(f'Null count for Columns - \\n{null_count}\\n\\n')\n",
    "\n",
    "#Printing % of null counts for columns that have null count>0\n",
    "for column, null_co in null_count.iteritems():\n",
    "    print(f'Percentage of missing values for Column {column} - {null_co*100/data.shape[0]:.2f} %')\n",
    "    if (null_co*100/data.shape[0]) > 0:\n",
    "      col = column \n",
    "      data[data.isnull().any(axis=1)][[col]]"
   ]
  },
  {
   "cell_type": "code",
   "execution_count": 14,
   "metadata": {
    "id": "Kq2ddqMyflEc"
   },
   "outputs": [],
   "source": [
    "data = data.dropna()"
   ]
  },
  {
   "cell_type": "code",
   "execution_count": 15,
   "metadata": {
    "id": "yXbEbvJbfqSU"
   },
   "outputs": [
    {
     "name": "stdout",
     "output_type": "stream",
     "text": [
      "Series([], dtype: int64)\n"
     ]
    }
   ],
   "source": [
    "#Counting Null values for each column\n",
    "null_count = data.isnull().sum()\n",
    "null_count = null_count[null_count>0]\n",
    "print(null_count)"
   ]
  },
  {
   "cell_type": "code",
   "execution_count": 16,
   "metadata": {
    "id": "UcO567fofvdv"
   },
   "outputs": [
    {
     "name": "stdout",
     "output_type": "stream",
     "text": [
      "track_id Percentage Boolean False Counts 0.00\n",
      "genre Percentage Boolean False Counts 0.00\n",
      "title Percentage Boolean False Counts 0.00\n",
      "chroma_cens1 Percentage Boolean False Counts 0.03\n",
      "chroma_cens2 Percentage Boolean False Counts 0.03\n",
      "chroma_cens3 Percentage Boolean False Counts 0.03\n",
      "chroma_cens4 Percentage Boolean False Counts 0.01\n",
      "chroma_cens5 Percentage Boolean False Counts 0.01\n",
      "chroma_cens6 Percentage Boolean False Counts 0.03\n",
      "chroma_cens7 Percentage Boolean False Counts 0.01\n",
      "chroma_cens8 Percentage Boolean False Counts 0.01\n",
      "chroma_cens9 Percentage Boolean False Counts 0.01\n",
      "chroma_cens10 Percentage Boolean False Counts 0.03\n",
      "chroma_cens11 Percentage Boolean False Counts 0.03\n",
      "chroma_cens12 Percentage Boolean False Counts 0.03\n",
      "chroma_cqt1 Percentage Boolean False Counts 0.01\n",
      "chroma_cqt2 Percentage Boolean False Counts 0.01\n",
      "chroma_cqt3 Percentage Boolean False Counts 0.01\n",
      "chroma_cqt4 Percentage Boolean False Counts 0.01\n",
      "chroma_cqt5 Percentage Boolean False Counts 0.01\n",
      "chroma_cqt6 Percentage Boolean False Counts 0.01\n",
      "chroma_cqt7 Percentage Boolean False Counts 0.01\n",
      "chroma_cqt8 Percentage Boolean False Counts 0.01\n",
      "chroma_cqt9 Percentage Boolean False Counts 0.01\n",
      "chroma_cqt10 Percentage Boolean False Counts 0.01\n",
      "chroma_cqt11 Percentage Boolean False Counts 0.01\n",
      "chroma_cqt12 Percentage Boolean False Counts 0.01\n",
      "chroma_stft1 Percentage Boolean False Counts 0.01\n",
      "chroma_stft2 Percentage Boolean False Counts 0.01\n",
      "chroma_stft3 Percentage Boolean False Counts 0.01\n",
      "chroma_stft4 Percentage Boolean False Counts 0.01\n",
      "chroma_stft5 Percentage Boolean False Counts 0.01\n",
      "chroma_stft6 Percentage Boolean False Counts 0.01\n",
      "chroma_stft7 Percentage Boolean False Counts 0.01\n",
      "chroma_stft8 Percentage Boolean False Counts 0.01\n",
      "chroma_stft9 Percentage Boolean False Counts 0.01\n",
      "chroma_stft10 Percentage Boolean False Counts 0.01\n",
      "chroma_stft11 Percentage Boolean False Counts 0.01\n",
      "chroma_stft12 Percentage Boolean False Counts 0.01\n",
      "mfcc1 Percentage Boolean False Counts 0.00\n",
      "mfcc2 Percentage Boolean False Counts 0.01\n",
      "mfcc3 Percentage Boolean False Counts 0.01\n",
      "mfcc4 Percentage Boolean False Counts 0.01\n",
      "mfcc5 Percentage Boolean False Counts 0.01\n",
      "mfcc6 Percentage Boolean False Counts 0.01\n",
      "mfcc7 Percentage Boolean False Counts 0.01\n",
      "mfcc8 Percentage Boolean False Counts 0.01\n",
      "mfcc9 Percentage Boolean False Counts 0.01\n",
      "mfcc10 Percentage Boolean False Counts 0.01\n",
      "mfcc11 Percentage Boolean False Counts 0.01\n",
      "mfcc12 Percentage Boolean False Counts 0.01\n",
      "mfcc13 Percentage Boolean False Counts 0.01\n",
      "mfcc14 Percentage Boolean False Counts 0.01\n",
      "mfcc15 Percentage Boolean False Counts 0.01\n",
      "mfcc16 Percentage Boolean False Counts 0.01\n",
      "mfcc17 Percentage Boolean False Counts 0.01\n",
      "mfcc18 Percentage Boolean False Counts 0.01\n",
      "mfcc19 Percentage Boolean False Counts 0.01\n",
      "mfcc20 Percentage Boolean False Counts 0.01\n",
      "rmse1 Percentage Boolean False Counts 0.01\n",
      "spectral_bandwidth1 Percentage Boolean False Counts 0.01\n",
      "spectral_centroid1 Percentage Boolean False Counts 0.01\n",
      "spectral_contrast1 Percentage Boolean False Counts 0.01\n",
      "spectral_contrast2 Percentage Boolean False Counts 0.01\n",
      "spectral_contrast3 Percentage Boolean False Counts 0.01\n",
      "spectral_contrast4 Percentage Boolean False Counts 0.01\n",
      "spectral_contrast5 Percentage Boolean False Counts 0.01\n",
      "spectral_contrast6 Percentage Boolean False Counts 0.01\n",
      "spectral_contrast7 Percentage Boolean False Counts 0.01\n",
      "spectral_rolloff1 Percentage Boolean False Counts 0.01\n",
      "tonnetz1 Percentage Boolean False Counts 0.01\n",
      "tonnetz2 Percentage Boolean False Counts 0.01\n",
      "tonnetz3 Percentage Boolean False Counts 0.01\n",
      "tonnetz4 Percentage Boolean False Counts 0.01\n",
      "tonnetz5 Percentage Boolean False Counts 0.01\n",
      "tonnetz6 Percentage Boolean False Counts 0.01\n",
      "zcr1 Percentage Boolean False Counts 0.01\n"
     ]
    }
   ],
   "source": [
    "#Checking boolean False counts for each column, an empty/blank string or integer 0 will result in a False value\n",
    "#for boolean type\n",
    "bool_counts = data.astype(bool).sum(axis=0)\n",
    "for col, val in bool_counts.iteritems():\n",
    "    print(f'{col} Percentage Boolean False Counts {(data.shape[0]-val)*100/data.shape[0]:.2f}')"
   ]
  },
  {
   "cell_type": "code",
   "execution_count": 17,
   "metadata": {
    "id": "ULVSeNHUf50u"
   },
   "outputs": [
    {
     "data": {
      "text/plain": [
       "<AxesSubplot:xlabel='genre', ylabel='count'>"
      ]
     },
     "execution_count": 17,
     "metadata": {},
     "output_type": "execute_result"
    },
    {
     "data": {
      "image/png": "[encoded data removed]",
      "text/plain": [
       "<Figure size 432x288 with 1 Axes>"
      ]
     },
     "metadata": {
      "needs_background": "light"
     },
     "output_type": "display_data"
    }
   ],
   "source": [
    "sns.countplot(x = 'genre', data = data)"
   ]
  },
  {
   "cell_type": "markdown",
   "metadata": {
    "id": "EYqccOc9n-8z"
   },
   "source": [
    "Partition data"
   ]
  },
  {
   "cell_type": "code",
   "execution_count": 18,
   "metadata": {
    "id": "Yv7WXRIUmKdY"
   },
   "outputs": [
    {
     "data": {
      "text/plain": [
       "track_id        7997\n",
       "genre           7997\n",
       "title           7997\n",
       "chroma_cens1    7997\n",
       "chroma_cens2    7997\n",
       "                ... \n",
       "tonnetz3        7997\n",
       "tonnetz4        7997\n",
       "tonnetz5        7997\n",
       "tonnetz6        7997\n",
       "zcr1            7997\n",
       "Length: 77, dtype: int64"
      ]
     },
     "execution_count": 18,
     "metadata": {},
     "output_type": "execute_result"
    }
   ],
   "source": [
    "data.count()"
   ]
  },
  {
   "cell_type": "code",
   "execution_count": 25,
   "metadata": {
    "id": "p4WsRORPyS2F"
   },
   "outputs": [],
   "source": [
    "data_new = data.drop(columns=['genre','title', 'track_id'])"
   ]
  },
  {
   "cell_type": "code",
   "execution_count": 26,
   "metadata": {
    "id": "CtaUn82EKh6c"
   },
   "outputs": [],
   "source": [
    "#classification data splitting \n",
    "X_train,X_test, Y_train, Y_test = train_test_split(data_new.iloc[:,:], data['genre'], test_size = 0.2, random_state=1)\n",
    "X_train, X_val, Y_train, Y_val = train_test_split(X_train, Y_train, test_size = 0.2, random_state = 1)"
   ]
  },
  {
   "cell_type": "code",
   "execution_count": 27,
   "metadata": {
    "id": "fyY3ap2QK_4r"
   },
   "outputs": [
    {
     "name": "stdout",
     "output_type": "stream",
     "text": [
      "<class 'pandas.core.frame.DataFrame'>\n",
      "Int64Index: 5117 entries, 1637 to 95\n",
      "Data columns (total 74 columns):\n",
      " #   Column               Non-Null Count  Dtype  \n",
      "---  ------               --------------  -----  \n",
      " 0   chroma_cens1         5117 non-null   float64\n",
      " 1   chroma_cens2         5117 non-null   float64\n",
      " 2   chroma_cens3         5117 non-null   float64\n",
      " 3   chroma_cens4         5117 non-null   float64\n",
      " 4   chroma_cens5         5117 non-null   float64\n",
      " 5   chroma_cens6         5117 non-null   float64\n",
      " 6   chroma_cens7         5117 non-null   float64\n",
      " 7   chroma_cens8         5117 non-null   float64\n",
      " 8   chroma_cens9         5117 non-null   float64\n",
      " 9   chroma_cens10        5117 non-null   float64\n",
      " 10  chroma_cens11        5117 non-null   float64\n",
      " 11  chroma_cens12        5117 non-null   float64\n",
      " 12  chroma_cqt1          5117 non-null   float64\n",
      " 13  chroma_cqt2          5117 non-null   float64\n",
      " 14  chroma_cqt3          5117 non-null   float64\n",
      " 15  chroma_cqt4          5117 non-null   float64\n",
      " 16  chroma_cqt5          5117 non-null   float64\n",
      " 17  chroma_cqt6          5117 non-null   float64\n",
      " 18  chroma_cqt7          5117 non-null   float64\n",
      " 19  chroma_cqt8          5117 non-null   float64\n",
      " 20  chroma_cqt9          5117 non-null   float64\n",
      " 21  chroma_cqt10         5117 non-null   float64\n",
      " 22  chroma_cqt11         5117 non-null   float64\n",
      " 23  chroma_cqt12         5117 non-null   float64\n",
      " 24  chroma_stft1         5117 non-null   float64\n",
      " 25  chroma_stft2         5117 non-null   float64\n",
      " 26  chroma_stft3         5117 non-null   float64\n",
      " 27  chroma_stft4         5117 non-null   float64\n",
      " 28  chroma_stft5         5117 non-null   float64\n",
      " 29  chroma_stft6         5117 non-null   float64\n",
      " 30  chroma_stft7         5117 non-null   float64\n",
      " 31  chroma_stft8         5117 non-null   float64\n",
      " 32  chroma_stft9         5117 non-null   float64\n",
      " 33  chroma_stft10        5117 non-null   float64\n",
      " 34  chroma_stft11        5117 non-null   float64\n",
      " 35  chroma_stft12        5117 non-null   float64\n",
      " 36  mfcc1                5117 non-null   float64\n",
      " 37  mfcc2                5117 non-null   float64\n",
      " 38  mfcc3                5117 non-null   float64\n",
      " 39  mfcc4                5117 non-null   float64\n",
      " 40  mfcc5                5117 non-null   float64\n",
      " 41  mfcc6                5117 non-null   float64\n",
      " 42  mfcc7                5117 non-null   float64\n",
      " 43  mfcc8                5117 non-null   float64\n",
      " 44  mfcc9                5117 non-null   float64\n",
      " 45  mfcc10               5117 non-null   float64\n",
      " 46  mfcc11               5117 non-null   float64\n",
      " 47  mfcc12               5117 non-null   float64\n",
      " 48  mfcc13               5117 non-null   float64\n",
      " 49  mfcc14               5117 non-null   float64\n",
      " 50  mfcc15               5117 non-null   float64\n",
      " 51  mfcc16               5117 non-null   float64\n",
      " 52  mfcc17               5117 non-null   float64\n",
      " 53  mfcc18               5117 non-null   float64\n",
      " 54  mfcc19               5117 non-null   float64\n",
      " 55  mfcc20               5117 non-null   float64\n",
      " 56  rmse1                5117 non-null   float64\n",
      " 57  spectral_bandwidth1  5117 non-null   float64\n",
      " 58  spectral_centroid1   5117 non-null   float64\n",
      " 59  spectral_contrast1   5117 non-null   float64\n",
      " 60  spectral_contrast2   5117 non-null   float64\n",
      " 61  spectral_contrast3   5117 non-null   float64\n",
      " 62  spectral_contrast4   5117 non-null   float64\n",
      " 63  spectral_contrast5   5117 non-null   float64\n",
      " 64  spectral_contrast6   5117 non-null   float64\n",
      " 65  spectral_contrast7   5117 non-null   float64\n",
      " 66  spectral_rolloff1    5117 non-null   float64\n",
      " 67  tonnetz1             5117 non-null   float64\n",
      " 68  tonnetz2             5117 non-null   float64\n",
      " 69  tonnetz3             5117 non-null   float64\n",
      " 70  tonnetz4             5117 non-null   float64\n",
      " 71  tonnetz5             5117 non-null   float64\n",
      " 72  tonnetz6             5117 non-null   float64\n",
      " 73  zcr1                 5117 non-null   float64\n",
      "dtypes: float64(74)\n",
      "memory usage: 2.9 MB\n",
      "None\n"
     ]
    }
   ],
   "source": [
    "print(X_train.info())"
   ]
  },
  {
   "cell_type": "code",
   "execution_count": 28,
   "metadata": {
    "id": "SWmeNloqLHjU"
   },
   "outputs": [
    {
     "name": "stdout",
     "output_type": "stream",
     "text": [
      "<class 'pandas.core.frame.DataFrame'>\n",
      "Int64Index: 1280 entries, 6211 to 6866\n",
      "Data columns (total 74 columns):\n",
      " #   Column               Non-Null Count  Dtype  \n",
      "---  ------               --------------  -----  \n",
      " 0   chroma_cens1         1280 non-null   float64\n",
      " 1   chroma_cens2         1280 non-null   float64\n",
      " 2   chroma_cens3         1280 non-null   float64\n",
      " 3   chroma_cens4         1280 non-null   float64\n",
      " 4   chroma_cens5         1280 non-null   float64\n",
      " 5   chroma_cens6         1280 non-null   float64\n",
      " 6   chroma_cens7         1280 non-null   float64\n",
      " 7   chroma_cens8         1280 non-null   float64\n",
      " 8   chroma_cens9         1280 non-null   float64\n",
      " 9   chroma_cens10        1280 non-null   float64\n",
      " 10  chroma_cens11        1280 non-null   float64\n",
      " 11  chroma_cens12        1280 non-null   float64\n",
      " 12  chroma_cqt1          1280 non-null   float64\n",
      " 13  chroma_cqt2          1280 non-null   float64\n",
      " 14  chroma_cqt3          1280 non-null   float64\n",
      " 15  chroma_cqt4          1280 non-null   float64\n",
      " 16  chroma_cqt5          1280 non-null   float64\n",
      " 17  chroma_cqt6          1280 non-null   float64\n",
      " 18  chroma_cqt7          1280 non-null   float64\n",
      " 19  chroma_cqt8          1280 non-null   float64\n",
      " 20  chroma_cqt9          1280 non-null   float64\n",
      " 21  chroma_cqt10         1280 non-null   float64\n",
      " 22  chroma_cqt11         1280 non-null   float64\n",
      " 23  chroma_cqt12         1280 non-null   float64\n",
      " 24  chroma_stft1         1280 non-null   float64\n",
      " 25  chroma_stft2         1280 non-null   float64\n",
      " 26  chroma_stft3         1280 non-null   float64\n",
      " 27  chroma_stft4         1280 non-null   float64\n",
      " 28  chroma_stft5         1280 non-null   float64\n",
      " 29  chroma_stft6         1280 non-null   float64\n",
      " 30  chroma_stft7         1280 non-null   float64\n",
      " 31  chroma_stft8         1280 non-null   float64\n",
      " 32  chroma_stft9         1280 non-null   float64\n",
      " 33  chroma_stft10        1280 non-null   float64\n",
      " 34  chroma_stft11        1280 non-null   float64\n",
      " 35  chroma_stft12        1280 non-null   float64\n",
      " 36  mfcc1                1280 non-null   float64\n",
      " 37  mfcc2                1280 non-null   float64\n",
      " 38  mfcc3                1280 non-null   float64\n",
      " 39  mfcc4                1280 non-null   float64\n",
      " 40  mfcc5                1280 non-null   float64\n",
      " 41  mfcc6                1280 non-null   float64\n",
      " 42  mfcc7                1280 non-null   float64\n",
      " 43  mfcc8                1280 non-null   float64\n",
      " 44  mfcc9                1280 non-null   float64\n",
      " 45  mfcc10               1280 non-null   float64\n",
      " 46  mfcc11               1280 non-null   float64\n",
      " 47  mfcc12               1280 non-null   float64\n",
      " 48  mfcc13               1280 non-null   float64\n",
      " 49  mfcc14               1280 non-null   float64\n",
      " 50  mfcc15               1280 non-null   float64\n",
      " 51  mfcc16               1280 non-null   float64\n",
      " 52  mfcc17               1280 non-null   float64\n",
      " 53  mfcc18               1280 non-null   float64\n",
      " 54  mfcc19               1280 non-null   float64\n",
      " 55  mfcc20               1280 non-null   float64\n",
      " 56  rmse1                1280 non-null   float64\n",
      " 57  spectral_bandwidth1  1280 non-null   float64\n",
      " 58  spectral_centroid1   1280 non-null   float64\n",
      " 59  spectral_contrast1   1280 non-null   float64\n",
      " 60  spectral_contrast2   1280 non-null   float64\n",
      " 61  spectral_contrast3   1280 non-null   float64\n",
      " 62  spectral_contrast4   1280 non-null   float64\n",
      " 63  spectral_contrast5   1280 non-null   float64\n",
      " 64  spectral_contrast6   1280 non-null   float64\n",
      " 65  spectral_contrast7   1280 non-null   float64\n",
      " 66  spectral_rolloff1    1280 non-null   float64\n",
      " 67  tonnetz1             1280 non-null   float64\n",
      " 68  tonnetz2             1280 non-null   float64\n",
      " 69  tonnetz3             1280 non-null   float64\n",
      " 70  tonnetz4             1280 non-null   float64\n",
      " 71  tonnetz5             1280 non-null   float64\n",
      " 72  tonnetz6             1280 non-null   float64\n",
      " 73  zcr1                 1280 non-null   float64\n",
      "dtypes: float64(74)\n",
      "memory usage: 750.0 KB\n",
      "None\n"
     ]
    }
   ],
   "source": [
    "print(X_val.info())"
   ]
  },
  {
   "cell_type": "code",
   "execution_count": 29,
   "metadata": {
    "id": "3-jawelNLufd"
   },
   "outputs": [
    {
     "name": "stdout",
     "output_type": "stream",
     "text": [
      "<class 'pandas.core.frame.DataFrame'>\n",
      "Int64Index: 1600 entries, 4739 to 6011\n",
      "Data columns (total 74 columns):\n",
      " #   Column               Non-Null Count  Dtype  \n",
      "---  ------               --------------  -----  \n",
      " 0   chroma_cens1         1600 non-null   float64\n",
      " 1   chroma_cens2         1600 non-null   float64\n",
      " 2   chroma_cens3         1600 non-null   float64\n",
      " 3   chroma_cens4         1600 non-null   float64\n",
      " 4   chroma_cens5         1600 non-null   float64\n",
      " 5   chroma_cens6         1600 non-null   float64\n",
      " 6   chroma_cens7         1600 non-null   float64\n",
      " 7   chroma_cens8         1600 non-null   float64\n",
      " 8   chroma_cens9         1600 non-null   float64\n",
      " 9   chroma_cens10        1600 non-null   float64\n",
      " 10  chroma_cens11        1600 non-null   float64\n",
      " 11  chroma_cens12        1600 non-null   float64\n",
      " 12  chroma_cqt1          1600 non-null   float64\n",
      " 13  chroma_cqt2          1600 non-null   float64\n",
      " 14  chroma_cqt3          1600 non-null   float64\n",
      " 15  chroma_cqt4          1600 non-null   float64\n",
      " 16  chroma_cqt5          1600 non-null   float64\n",
      " 17  chroma_cqt6          1600 non-null   float64\n",
      " 18  chroma_cqt7          1600 non-null   float64\n",
      " 19  chroma_cqt8          1600 non-null   float64\n",
      " 20  chroma_cqt9          1600 non-null   float64\n",
      " 21  chroma_cqt10         1600 non-null   float64\n",
      " 22  chroma_cqt11         1600 non-null   float64\n",
      " 23  chroma_cqt12         1600 non-null   float64\n",
      " 24  chroma_stft1         1600 non-null   float64\n",
      " 25  chroma_stft2         1600 non-null   float64\n",
      " 26  chroma_stft3         1600 non-null   float64\n",
      " 27  chroma_stft4         1600 non-null   float64\n",
      " 28  chroma_stft5         1600 non-null   float64\n",
      " 29  chroma_stft6         1600 non-null   float64\n",
      " 30  chroma_stft7         1600 non-null   float64\n",
      " 31  chroma_stft8         1600 non-null   float64\n",
      " 32  chroma_stft9         1600 non-null   float64\n",
      " 33  chroma_stft10        1600 non-null   float64\n",
      " 34  chroma_stft11        1600 non-null   float64\n",
      " 35  chroma_stft12        1600 non-null   float64\n",
      " 36  mfcc1                1600 non-null   float64\n",
      " 37  mfcc2                1600 non-null   float64\n",
      " 38  mfcc3                1600 non-null   float64\n",
      " 39  mfcc4                1600 non-null   float64\n",
      " 40  mfcc5                1600 non-null   float64\n",
      " 41  mfcc6                1600 non-null   float64\n",
      " 42  mfcc7                1600 non-null   float64\n",
      " 43  mfcc8                1600 non-null   float64\n",
      " 44  mfcc9                1600 non-null   float64\n",
      " 45  mfcc10               1600 non-null   float64\n",
      " 46  mfcc11               1600 non-null   float64\n",
      " 47  mfcc12               1600 non-null   float64\n",
      " 48  mfcc13               1600 non-null   float64\n",
      " 49  mfcc14               1600 non-null   float64\n",
      " 50  mfcc15               1600 non-null   float64\n",
      " 51  mfcc16               1600 non-null   float64\n",
      " 52  mfcc17               1600 non-null   float64\n",
      " 53  mfcc18               1600 non-null   float64\n",
      " 54  mfcc19               1600 non-null   float64\n",
      " 55  mfcc20               1600 non-null   float64\n",
      " 56  rmse1                1600 non-null   float64\n",
      " 57  spectral_bandwidth1  1600 non-null   float64\n",
      " 58  spectral_centroid1   1600 non-null   float64\n",
      " 59  spectral_contrast1   1600 non-null   float64\n",
      " 60  spectral_contrast2   1600 non-null   float64\n",
      " 61  spectral_contrast3   1600 non-null   float64\n",
      " 62  spectral_contrast4   1600 non-null   float64\n",
      " 63  spectral_contrast5   1600 non-null   float64\n",
      " 64  spectral_contrast6   1600 non-null   float64\n",
      " 65  spectral_contrast7   1600 non-null   float64\n",
      " 66  spectral_rolloff1    1600 non-null   float64\n",
      " 67  tonnetz1             1600 non-null   float64\n",
      " 68  tonnetz2             1600 non-null   float64\n",
      " 69  tonnetz3             1600 non-null   float64\n",
      " 70  tonnetz4             1600 non-null   float64\n",
      " 71  tonnetz5             1600 non-null   float64\n",
      " 72  tonnetz6             1600 non-null   float64\n",
      " 73  zcr1                 1600 non-null   float64\n",
      "dtypes: float64(74)\n",
      "memory usage: 937.5 KB\n",
      "None\n"
     ]
    }
   ],
   "source": [
    "# Explore test set\n",
    "print(X_test.info())"
   ]
  },
  {
   "cell_type": "markdown",
   "metadata": {
    "id": "1SVLEBoRLRrt"
   },
   "source": [
    "**Standardize the data**"
   ]
  },
  {
   "cell_type": "code",
   "execution_count": 31,
   "metadata": {
    "id": "argX11ioLXuW"
   },
   "outputs": [],
   "source": [
    "scaler = StandardScaler()\n",
    "scaler.fit(X_train)\n",
    "X_train = scaler.transform(X_train)\n",
    "X_val = scaler.transform(X_val)\n",
    "X_test = scaler.transform(X_test)"
   ]
  },
  {
   "cell_type": "code",
   "execution_count": 47,
   "metadata": {
    "id": "MXhx5PJTysp5"
   },
   "outputs": [
    {
     "data": {
      "text/plain": [
       "73.88624449646424"
      ]
     },
     "execution_count": 47,
     "metadata": {},
     "output_type": "execute_result"
    }
   ],
   "source": [
    "# SelectKBest(f_classif, k=20).fit_transform(X_train, Y_train)\n",
    "f_classif(X_train, Y_train)\n",
    "np.mean(f_classif(X_train, Y_train)[0])"
   ]
  }
 ],
 "metadata": {
  "colab": {
   "collapsed_sections": [],
   "include_colab_link": true,
   "name": "data_exploration.ipynb",
   "private_outputs": true,
   "provenance": []
  },
  "kernelspec": {
   "display_name": "Python 3",
   "language": "python",
   "name": "python3"
  },
  "language_info": {
   "codemirror_mode": {
    "name": "ipython",
    "version": 3
   },
   "file_extension": ".py",
   "mimetype": "text/x-python",
   "name": "python",
   "nbconvert_exporter": "python",
   "pygments_lexer": "ipython3",
   "version": "3.6.5"
  }
 },
 "nbformat": 4,
 "nbformat_minor": 1
}
