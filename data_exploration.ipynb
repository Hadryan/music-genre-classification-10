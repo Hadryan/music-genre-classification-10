{
  "nbformat": 4,
  "nbformat_minor": 0,
  "metadata": {
    "colab": {
      "name": "data_exploration.ipynb",
      "private_outputs": true,
      "provenance": [],
      "collapsed_sections": [],
      "authorship_tag": "ABX9TyMcD79s1vZxSqqFd2U+G78q",
      "include_colab_link": true
    },
    "kernelspec": {
      "name": "python3",
      "display_name": "Python 3"
    }
  },
  "cells": [
    {
      "cell_type": "markdown",
      "metadata": {
        "id": "view-in-github",
        "colab_type": "text"
      },
      "source": [
        "<a href=\"https://colab.research.google.com/github/saurabhsangwan/music-genre-classification/blob/main/data_exploration.ipynb\" target=\"_parent\"><img src=\"https://colab.research.google.com/assets/colab-badge.svg\" alt=\"Open In Colab\"/></a>"
      ]
    },
    {
      "cell_type": "code",
      "metadata": {
        "id": "ZdrsZ6HFd92c"
      },
      "source": [
        "# Mount Google Drive\n",
        "from google.colab import drive # import drive from google colab\n",
        "\n",
        "ROOT = \"/content/drive\"     # default location for the drive\n",
        "print(ROOT)                 # print content of ROOT (Optional)\n",
        "\n",
        "drive.mount(ROOT)"
      ],
      "execution_count": null,
      "outputs": []
    },
    {
      "cell_type": "code",
      "metadata": {
        "id": "pmxP_zWPeSj9"
      },
      "source": [
        "%cd drive/MyDrive/IDS/"
      ],
      "execution_count": null,
      "outputs": []
    },
    {
      "cell_type": "code",
      "metadata": {
        "id": "ubbO93Iselw6"
      },
      "source": [
        "import pandas as pd\n",
        "import numpy as np\n",
        "import scipy.stats as st\n",
        "import plotly.figure_factory as ff\n",
        "import seaborn as sns\n",
        "import warnings\n",
        "import pandas as pd\n",
        "import numpy as np\n",
        "from sklearn.model_selection import train_test_split, KFold, cross_val_score\n",
        "from sklearn.preprocessing import StandardScaler  \n",
        "from sklearn.model_selection import train_test_split\n",
        "from sklearn.linear_model import LinearRegression\n",
        "from sklearn import linear_model\n",
        "from sklearn.cluster import KMeans, DBSCAN\n",
        "from sklearn import metrics\n",
        "import seaborn as sns\n",
        "import matplotlib.pyplot as plt\n",
        "from sklearn.tree import DecisionTreeClassifier\n",
        "from sklearn.neighbors import KNeighborsClassifier \n",
        "from sklearn.naive_bayes import GaussianNB\n",
        "from sklearn.svm import SVC\n",
        "import plotly.figure_factory as ff"
      ],
      "execution_count": null,
      "outputs": []
    },
    {
      "cell_type": "code",
      "metadata": {
        "id": "8vxReuRNeaTJ"
      },
      "source": [
        "data = pd.read_csv(\"music-genre-classification/data/final_data.csv\")\n",
        "data.head()"
      ],
      "execution_count": null,
      "outputs": []
    },
    {
      "cell_type": "code",
      "metadata": {
        "id": "Vx41TFJ-NCt0"
      },
      "source": [
        "data= data.drop(columns=['genre_title', 'genre_parent_title'])"
      ],
      "execution_count": null,
      "outputs": []
    },
    {
      "cell_type": "code",
      "metadata": {
        "id": "Mn4Q3XqPoLVI"
      },
      "source": [
        "data.count()"
      ],
      "execution_count": null,
      "outputs": []
    },
    {
      "cell_type": "code",
      "metadata": {
        "id": "duZX9RN1NYM_"
      },
      "source": [
        "data.head()"
      ],
      "execution_count": null,
      "outputs": []
    },
    {
      "cell_type": "code",
      "metadata": {
        "id": "TM4nPa7Aexkt"
      },
      "source": [
        "#explore data\n",
        "print(f'Number of variables - {data.shape[1]}\\n')\n",
        "print(f'Data Types for each variable - \\n{data.dtypes}\\n')\n",
        "print(f'Number of variables for each data type - \\n{data.dtypes.value_counts()}')"
      ],
      "execution_count": null,
      "outputs": []
    },
    {
      "cell_type": "code",
      "metadata": {
        "id": "tMvcRkVFfFA4"
      },
      "source": [
        "#search missing data\n",
        "#Counting Null values for each column\n",
        "null_count = data.isnull().sum()\n",
        "null_count = null_count[null_count>0]\n",
        "\n",
        "#Printing null counts for columns that have null count >0\n",
        "print(f'Null count for Columns - \\n{null_count}\\n\\n')\n",
        "\n",
        "#Printing % of null counts for columns that have null count>0\n",
        "for column, null_co in null_count.iteritems():\n",
        "    print(f'Percentage of missing values for Column {column} - {null_co*100/data.shape[0]:.2f} %')\n",
        "    if (null_co*100/data.shape[0]) > 0:\n",
        "      col = column \n",
        "      data[data.isnull().any(axis=1)][[col]]"
      ],
      "execution_count": null,
      "outputs": []
    },
    {
      "cell_type": "code",
      "metadata": {
        "id": "Kq2ddqMyflEc"
      },
      "source": [
        "data = data.dropna()"
      ],
      "execution_count": null,
      "outputs": []
    },
    {
      "cell_type": "code",
      "metadata": {
        "id": "yXbEbvJbfqSU"
      },
      "source": [
        "#Counting Null values for each column\n",
        "null_count = data.isnull().sum()\n",
        "null_count = null_count[null_count>0]\n",
        "print(null_count)"
      ],
      "execution_count": null,
      "outputs": []
    },
    {
      "cell_type": "code",
      "metadata": {
        "id": "UcO567fofvdv"
      },
      "source": [
        "#Checking boolean False counts for each column, an empty/blank string or integer 0 will result in a False value\n",
        "#for boolean type\n",
        "bool_counts = data.astype(bool).sum(axis=0)\n",
        "for col, val in bool_counts.iteritems():\n",
        "    print(f'{col} Percentage Boolean False Counts {(data.shape[0]-val)*100/data.shape[0]:.2f}')"
      ],
      "execution_count": null,
      "outputs": []
    },
    {
      "cell_type": "code",
      "metadata": {
        "id": "ULVSeNHUf50u"
      },
      "source": [
        "sns.countplot(x = 'genre_id', data = data)"
      ],
      "execution_count": null,
      "outputs": []
    },
    {
      "cell_type": "code",
      "metadata": {
        "id": "y8Izq43xkQYg"
      },
      "source": [
        "#check the top 8 genre_id counts \n",
        "g_count=data['genre_id'].value_counts().nlargest(8)\n",
        "print(g_count)"
      ],
      "execution_count": null,
      "outputs": []
    },
    {
      "cell_type": "code",
      "metadata": {
        "id": "wtGUDcH-Ik8G"
      },
      "source": [
        "top_id = [21,17,18,10,15,12,76,2]"
      ],
      "execution_count": null,
      "outputs": []
    },
    {
      "cell_type": "code",
      "metadata": {
        "id": "AIQQrmmdJQDv"
      },
      "source": [
        "#new =pd.DataFrame\n",
        "data_clean =pd.DataFrame()"
      ],
      "execution_count": null,
      "outputs": []
    },
    {
      "cell_type": "code",
      "metadata": {
        "id": "pN4tNx_WHhjy"
      },
      "source": [
        "for i in range(len(top_id)-1):\n",
        "  indexNames = data[(data['genre_id'] == top_id[i])]\n",
        "  print(indexNames)\n",
        "  data_clean = data_clean.append(indexNames)"
      ],
      "execution_count": null,
      "outputs": []
    },
    {
      "cell_type": "code",
      "metadata": {
        "id": "hZobakew1iSJ"
      },
      "source": [
        "print(data_clean.count)"
      ],
      "execution_count": null,
      "outputs": []
    },
    {
      "cell_type": "code",
      "metadata": {
        "id": "Jp58GbL4l-QV"
      },
      "source": [
        "sns.countplot(x = 'genre_id', data = data_clean)"
      ],
      "execution_count": null,
      "outputs": []
    },
    {
      "cell_type": "markdown",
      "metadata": {
        "id": "EYqccOc9n-8z"
      },
      "source": [
        "Partition data"
      ]
    },
    {
      "cell_type": "code",
      "metadata": {
        "id": "Yv7WXRIUmKdY"
      },
      "source": [
        "data_clean.count()"
      ],
      "execution_count": null,
      "outputs": []
    },
    {
      "cell_type": "code",
      "metadata": {
        "id": "CtaUn82EKh6c"
      },
      "source": [
        "#classification data splitting \n",
        "X_train,X_test, Y_train, Y_test = train_test_split(data_clean.iloc[:,:], data_clean['genre_id'], test_size = 0.2, random_state=1)\n",
        "X_train, X_val, Y_train, Y_val = train_test_split(X_train, Y_train, test_size = 0.2, random_state = 1)"
      ],
      "execution_count": null,
      "outputs": []
    },
    {
      "cell_type": "code",
      "metadata": {
        "id": "fyY3ap2QK_4r"
      },
      "source": [
        "print(X_train.info())"
      ],
      "execution_count": null,
      "outputs": []
    },
    {
      "cell_type": "code",
      "metadata": {
        "id": "SWmeNloqLHjU"
      },
      "source": [
        "print(X_val.info())"
      ],
      "execution_count": null,
      "outputs": []
    },
    {
      "cell_type": "code",
      "metadata": {
        "id": "3-jawelNLufd"
      },
      "source": [
        "# Explore test set\n",
        "print(X_test.info())"
      ],
      "execution_count": null,
      "outputs": []
    },
    {
      "cell_type": "markdown",
      "metadata": {
        "id": "1SVLEBoRLRrt"
      },
      "source": [
        "**Standardize the data**"
      ]
    },
    {
      "cell_type": "code",
      "metadata": {
        "id": "argX11ioLXuW"
      },
      "source": [
        "scaler = StandardScaler()\n",
        "scaler.fit(X_train)\n",
        "X_train = scaler.transform(X_train)\n",
        "X_val = scaler.transform(X_val)\n",
        "X_test = scaler.transform(X_test)"
      ],
      "execution_count": null,
      "outputs": []
    }
  ]
}