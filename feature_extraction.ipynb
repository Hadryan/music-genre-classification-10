{
 "cells": [
  {
   "cell_type": "code",
   "execution_count": null,
   "metadata": {},
   "outputs": [],
   "source": [
    "import numpy as np\n",
    "import pandas as pd\n",
    "import librosa\n",
    "import os\n"
   ]
  },
  {
   "cell_type": "code",
   "execution_count": null,
   "metadata": {},
   "outputs": [],
   "source": [
    "def columns():\n",
    "    feature_sizes = dict(chroma_stft=12, chroma_cqt=12, chroma_cens=12,\n",
    "                         tonnetz=6, mfcc=20, rmse=1, zcr=1,\n",
    "                         spectral_centroid=1, spectral_bandwidth=1,\n",
    "                         spectral_contrast=7, spectral_rolloff=1, track_id=1)\n",
    "\n",
    "    columns = []\n",
    "    for name, size in feature_sizes.items():\n",
    "        it = ((name, '{:02d}'.format(i + 1)) for i in range(size))\n",
    "        columns.extend(it)\n",
    "\n",
    "    names = ('feature', 'number')\n",
    "    columns = pd.MultiIndex.from_tuples(columns, names=names)\n",
    "\n",
    "    # More efficient to slice if indexes are sorted.\n",
    "    return columns.sort_values()"
   ]
  },
  {
   "cell_type": "code",
   "execution_count": null,
   "metadata": {},
   "outputs": [],
   "source": [
    "def compute_features(tid, filepath):\n",
    "    features = pd.Series(index=columns(), dtype=np.float32, name=tid)\n",
    "\n",
    "\n",
    "\n",
    "    def feature_stats(name, values):\n",
    "        features[name] = np.mean(values, axis=1)\n",
    "        \n",
    "    x, sr = librosa.load(filepath)  # kaiser_fast\n",
    "\n",
    "    f = librosa.feature.zero_crossing_rate(x, frame_length=2048, hop_length=512)\n",
    "    feature_stats('zcr', f)\n",
    "\n",
    "    cqt = np.abs(librosa.cqt(x, sr=sr, hop_length=512, bins_per_octave=12,\n",
    "                             n_bins=7 * 12, tuning=None))\n",
    "    assert cqt.shape[0] == 7 * 12\n",
    "    assert np.ceil(len(x) / 512) <= cqt.shape[1] <= np.ceil(len(x) / 512) + 1\n",
    "\n",
    "    f = librosa.feature.chroma_cqt(C=cqt, n_chroma=12, n_octaves=7)\n",
    "    feature_stats('chroma_cqt', f)\n",
    "    f = librosa.feature.chroma_cens(C=cqt, n_chroma=12, n_octaves=7)\n",
    "    feature_stats('chroma_cens', f)\n",
    "    f = librosa.feature.tonnetz(chroma=f)\n",
    "    feature_stats('tonnetz', f)\n",
    "    features['track_id'] = track_id\n",
    "\n",
    "    del cqt\n",
    "    stft = np.abs(librosa.stft(x, n_fft=2048, hop_length=512))\n",
    "    assert stft.shape[0] == 1 + 2048 // 2\n",
    "    assert np.ceil(len(x) / 512) <= stft.shape[1] <= np.ceil(len(x) / 512) + 1\n",
    "    del x\n",
    "\n",
    "    f = librosa.feature.chroma_stft(S=stft ** 2, n_chroma=12)\n",
    "    feature_stats('chroma_stft', f)\n",
    "\n",
    "    f = librosa.feature.rmse(S=stft)\n",
    "    feature_stats('rmse', f)\n",
    "\n",
    "    f = librosa.feature.spectral_centroid(S=stft)\n",
    "    feature_stats('spectral_centroid', f)\n",
    "    f = librosa.feature.spectral_bandwidth(S=stft)\n",
    "    feature_stats('spectral_bandwidth', f)\n",
    "    f = librosa.feature.spectral_contrast(S=stft, n_bands=6)\n",
    "    feature_stats('spectral_contrast', f)\n",
    "    f = librosa.feature.spectral_rolloff(S=stft)\n",
    "    feature_stats('spectral_rolloff', f)\n",
    "\n",
    "    mel = librosa.feature.melspectrogram(sr=sr, S=stft ** 2)\n",
    "    del stft\n",
    "    f = librosa.feature.mfcc(S=librosa.power_to_db(mel), n_mfcc=20)\n",
    "    feature_stats('mfcc', f)\n",
    "\n",
    "    return features"
   ]
  },
  {
   "cell_type": "code",
   "execution_count": null,
   "metadata": {},
   "outputs": [],
   "source": [
    "root_path = '/Users/saurabh/PycharmProjects/IDS/final_project/music-genre-classification/data/2018655052_small'\n",
    "tracks_dict = {}\n",
    "for path, subdirs, files in os.walk(root_path):\n",
    "    for name in files:\n",
    "        if name.split('.')[0].isdigit():\n",
    "            tracks_dict[name.split('.')[0]] = os.path.join(path, name)"
   ]
  },
  {
   "cell_type": "code",
   "execution_count": null,
   "metadata": {},
   "outputs": [],
   "source": [
    "total_features = {}\n",
    "df = pd.DataFrame(columns=columns())\n",
    "count = 0\n",
    "error_dict = {}\n",
    "for track_id, filepath in tracks_dict.items():\n",
    "    try:\n",
    "        features = compute_features(track_id, filepath)\n",
    "        df = df.append(features, ignore_index=True)\n",
    "    except:\n",
    "        error_dict[track_id] = filepath\n",
    "print(error_dict)\n",
    "df.to_csv('./data/features.csv')"
   ]
  }
 ],
 "metadata": {
  "kernelspec": {
   "display_name": "Python 3",
   "language": "python",
   "name": "python3"
  },
  "language_info": {
   "codemirror_mode": {
    "name": "ipython",
    "version": 3
   },
   "file_extension": ".py",
   "mimetype": "text/x-python",
   "name": "python",
   "nbconvert_exporter": "python",
   "pygments_lexer": "ipython3",
   "version": "3.6.5"
  }
 },
 "nbformat": 4,
 "nbformat_minor": 4
}
