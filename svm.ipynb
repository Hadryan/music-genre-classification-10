{
 "cells": [
  {
   "cell_type": "code",
   "execution_count": 106,
   "metadata": {
    "id": "ubbO93Iselw6"
   },
   "outputs": [],
   "source": [
    "import pandas as pd\n",
    "import numpy as np\n",
    "import scipy.stats as st\n",
    "import plotly.figure_factory as ff\n",
    "import seaborn as sns\n",
    "import warnings\n",
    "import pandas as pd\n",
    "import numpy as np\n",
    "from sklearn.model_selection import train_test_split, KFold, cross_val_score\n",
    "from sklearn.preprocessing import StandardScaler  \n",
    "from sklearn.model_selection import train_test_split\n",
    "from sklearn.linear_model import LinearRegression\n",
    "from sklearn import linear_model\n",
    "from sklearn.cluster import KMeans, DBSCAN\n",
    "from sklearn import metrics\n",
    "import seaborn as sns\n",
    "import matplotlib.pyplot as plt\n",
    "from sklearn.tree import DecisionTreeClassifier\n",
    "from sklearn.neighbors import KNeighborsClassifier \n",
    "from sklearn.naive_bayes import GaussianNB\n",
    "from sklearn.svm import SVC\n",
    "import plotly.figure_factory as ff\n",
    "from sklearn.feature_selection import SelectKBest, f_classif\n",
    "from sklearn.model_selection import train_test_split, KFold, cross_val_score\n",
    "from sklearn.metrics import accuracy_score\n",
    "from sklearn.metrics import confusion_matrix"
   ]
  },
  {
   "cell_type": "code",
   "execution_count": 112,
   "metadata": {
    "id": "8vxReuRNeaTJ"
   },
   "outputs": [
    {
     "data": {
      "text/html": [
       "<div>\n",
       "<style scoped>\n",
       "    .dataframe tbody tr th:only-of-type {\n",
       "        vertical-align: middle;\n",
       "    }\n",
       "\n",
       "    .dataframe tbody tr th {\n",
       "        vertical-align: top;\n",
       "    }\n",
       "\n",
       "    .dataframe thead th {\n",
       "        text-align: right;\n",
       "    }\n",
       "</style>\n",
       "<table border=\"1\" class=\"dataframe\">\n",
       "  <thead>\n",
       "    <tr style=\"text-align: right;\">\n",
       "      <th></th>\n",
       "      <th>Unnamed: 0</th>\n",
       "      <th>track_id</th>\n",
       "      <th>genre</th>\n",
       "      <th>title</th>\n",
       "      <th>chroma_cens1</th>\n",
       "      <th>chroma_cens2</th>\n",
       "      <th>chroma_cens3</th>\n",
       "      <th>chroma_cens4</th>\n",
       "      <th>chroma_cens5</th>\n",
       "      <th>chroma_cens6</th>\n",
       "      <th>...</th>\n",
       "      <th>spectral_contrast6</th>\n",
       "      <th>spectral_contrast7</th>\n",
       "      <th>spectral_rolloff1</th>\n",
       "      <th>tonnetz1</th>\n",
       "      <th>tonnetz2</th>\n",
       "      <th>tonnetz3</th>\n",
       "      <th>tonnetz4</th>\n",
       "      <th>tonnetz5</th>\n",
       "      <th>tonnetz6</th>\n",
       "      <th>zcr1</th>\n",
       "    </tr>\n",
       "  </thead>\n",
       "  <tbody>\n",
       "    <tr>\n",
       "      <th>0</th>\n",
       "      <td>0</td>\n",
       "      <td>135054</td>\n",
       "      <td>Experimental</td>\n",
       "      <td>Hari Karl (for Larry Eisenberg)</td>\n",
       "      <td>0.310373</td>\n",
       "      <td>0.308683</td>\n",
       "      <td>0.290821</td>\n",
       "      <td>0.297749</td>\n",
       "      <td>0.287629</td>\n",
       "      <td>0.260195</td>\n",
       "      <td>...</td>\n",
       "      <td>17.265811</td>\n",
       "      <td>42.597892</td>\n",
       "      <td>2571.502445</td>\n",
       "      <td>-0.002862</td>\n",
       "      <td>-0.000695</td>\n",
       "      <td>0.004706</td>\n",
       "      <td>-0.006419</td>\n",
       "      <td>0.005246</td>\n",
       "      <td>-0.001563</td>\n",
       "      <td>0.070002</td>\n",
       "    </tr>\n",
       "    <tr>\n",
       "      <th>1</th>\n",
       "      <td>1</td>\n",
       "      <td>135336</td>\n",
       "      <td>Pop</td>\n",
       "      <td>Slow and Steady</td>\n",
       "      <td>0.161290</td>\n",
       "      <td>0.161296</td>\n",
       "      <td>0.190398</td>\n",
       "      <td>0.171992</td>\n",
       "      <td>0.189878</td>\n",
       "      <td>0.187176</td>\n",
       "      <td>...</td>\n",
       "      <td>20.103589</td>\n",
       "      <td>33.081974</td>\n",
       "      <td>4486.854020</td>\n",
       "      <td>-0.006867</td>\n",
       "      <td>-0.004326</td>\n",
       "      <td>-0.092237</td>\n",
       "      <td>0.019405</td>\n",
       "      <td>-0.006026</td>\n",
       "      <td>0.015697</td>\n",
       "      <td>0.085219</td>\n",
       "    </tr>\n",
       "    <tr>\n",
       "      <th>2</th>\n",
       "      <td>2</td>\n",
       "      <td>135337</td>\n",
       "      <td>Pop</td>\n",
       "      <td>The Dream and the Dreamer</td>\n",
       "      <td>0.443386</td>\n",
       "      <td>0.357355</td>\n",
       "      <td>0.191626</td>\n",
       "      <td>0.202726</td>\n",
       "      <td>0.284854</td>\n",
       "      <td>0.236113</td>\n",
       "      <td>...</td>\n",
       "      <td>21.580315</td>\n",
       "      <td>32.187206</td>\n",
       "      <td>4382.598041</td>\n",
       "      <td>0.024635</td>\n",
       "      <td>-0.007949</td>\n",
       "      <td>0.011779</td>\n",
       "      <td>0.130071</td>\n",
       "      <td>0.014134</td>\n",
       "      <td>0.009135</td>\n",
       "      <td>0.108170</td>\n",
       "    </tr>\n",
       "    <tr>\n",
       "      <th>3</th>\n",
       "      <td>3</td>\n",
       "      <td>135043</td>\n",
       "      <td>Folk</td>\n",
       "      <td>Babel</td>\n",
       "      <td>0.141946</td>\n",
       "      <td>0.153972</td>\n",
       "      <td>0.169128</td>\n",
       "      <td>0.218597</td>\n",
       "      <td>0.385648</td>\n",
       "      <td>0.400918</td>\n",
       "      <td>...</td>\n",
       "      <td>21.147088</td>\n",
       "      <td>32.537513</td>\n",
       "      <td>4162.319868</td>\n",
       "      <td>0.017150</td>\n",
       "      <td>-0.001607</td>\n",
       "      <td>-0.063755</td>\n",
       "      <td>0.005411</td>\n",
       "      <td>0.006720</td>\n",
       "      <td>-0.011991</td>\n",
       "      <td>0.074080</td>\n",
       "    </tr>\n",
       "    <tr>\n",
       "      <th>4</th>\n",
       "      <td>4</td>\n",
       "      <td>135091</td>\n",
       "      <td>Experimental</td>\n",
       "      <td>Tree and Wind</td>\n",
       "      <td>0.017648</td>\n",
       "      <td>0.017463</td>\n",
       "      <td>0.035690</td>\n",
       "      <td>0.158926</td>\n",
       "      <td>0.163426</td>\n",
       "      <td>0.064951</td>\n",
       "      <td>...</td>\n",
       "      <td>19.401185</td>\n",
       "      <td>34.605480</td>\n",
       "      <td>4653.557040</td>\n",
       "      <td>-0.002268</td>\n",
       "      <td>-0.042291</td>\n",
       "      <td>0.160464</td>\n",
       "      <td>-0.144974</td>\n",
       "      <td>0.053375</td>\n",
       "      <td>-0.030622</td>\n",
       "      <td>0.100463</td>\n",
       "    </tr>\n",
       "  </tbody>\n",
       "</table>\n",
       "<p>5 rows × 78 columns</p>\n",
       "</div>"
      ],
      "text/plain": [
       "   Unnamed: 0  track_id         genre                            title  \\\n",
       "0           0    135054  Experimental  Hari Karl (for Larry Eisenberg)   \n",
       "1           1    135336           Pop                  Slow and Steady   \n",
       "2           2    135337           Pop        The Dream and the Dreamer   \n",
       "3           3    135043          Folk                            Babel   \n",
       "4           4    135091  Experimental                    Tree and Wind   \n",
       "\n",
       "   chroma_cens1  chroma_cens2  chroma_cens3  chroma_cens4  chroma_cens5  \\\n",
       "0      0.310373      0.308683      0.290821      0.297749      0.287629   \n",
       "1      0.161290      0.161296      0.190398      0.171992      0.189878   \n",
       "2      0.443386      0.357355      0.191626      0.202726      0.284854   \n",
       "3      0.141946      0.153972      0.169128      0.218597      0.385648   \n",
       "4      0.017648      0.017463      0.035690      0.158926      0.163426   \n",
       "\n",
       "   chroma_cens6  ...  spectral_contrast6  spectral_contrast7  \\\n",
       "0      0.260195  ...           17.265811           42.597892   \n",
       "1      0.187176  ...           20.103589           33.081974   \n",
       "2      0.236113  ...           21.580315           32.187206   \n",
       "3      0.400918  ...           21.147088           32.537513   \n",
       "4      0.064951  ...           19.401185           34.605480   \n",
       "\n",
       "   spectral_rolloff1  tonnetz1  tonnetz2  tonnetz3  tonnetz4  tonnetz5  \\\n",
       "0        2571.502445 -0.002862 -0.000695  0.004706 -0.006419  0.005246   \n",
       "1        4486.854020 -0.006867 -0.004326 -0.092237  0.019405 -0.006026   \n",
       "2        4382.598041  0.024635 -0.007949  0.011779  0.130071  0.014134   \n",
       "3        4162.319868  0.017150 -0.001607 -0.063755  0.005411  0.006720   \n",
       "4        4653.557040 -0.002268 -0.042291  0.160464 -0.144974  0.053375   \n",
       "\n",
       "   tonnetz6      zcr1  \n",
       "0 -0.001563  0.070002  \n",
       "1  0.015697  0.085219  \n",
       "2  0.009135  0.108170  \n",
       "3 -0.011991  0.074080  \n",
       "4 -0.030622  0.100463  \n",
       "\n",
       "[5 rows x 78 columns]"
      ]
     },
     "execution_count": 112,
     "metadata": {},
     "output_type": "execute_result"
    }
   ],
   "source": [
    "data = pd.read_csv(\"./data/merged_data.csv\")\n",
    "data.head()"
   ]
  },
  {
   "cell_type": "code",
   "execution_count": null,
   "metadata": {
    "id": "Vx41TFJ-NCt0"
   },
   "outputs": [],
   "source": [
    "data= data.drop(columns=['Unnamed: 0'])"
   ]
  },
  {
   "cell_type": "code",
   "execution_count": null,
   "metadata": {
    "id": "Mn4Q3XqPoLVI"
   },
   "outputs": [],
   "source": [
    "data.count()"
   ]
  },
  {
   "cell_type": "code",
   "execution_count": null,
   "metadata": {
    "id": "duZX9RN1NYM_"
   },
   "outputs": [],
   "source": [
    "data.head()"
   ]
  },
  {
   "cell_type": "code",
   "execution_count": null,
   "metadata": {
    "id": "TM4nPa7Aexkt"
   },
   "outputs": [],
   "source": [
    "#explore data\n",
    "print(f'Number of variables - {data.shape[1]}\\n')\n",
    "print(f'Data Types for each variable - \\n{data.dtypes}\\n')\n",
    "print(f'Number of variables for each data type - \\n{data.dtypes.value_counts()}')"
   ]
  },
  {
   "cell_type": "code",
   "execution_count": null,
   "metadata": {
    "id": "tMvcRkVFfFA4"
   },
   "outputs": [],
   "source": [
    "#search missing data\n",
    "#Counting Null values for each column\n",
    "null_count = data.isnull().sum()\n",
    "null_count = null_count[null_count>0]\n",
    "\n",
    "#Printing null counts for columns that have null count >0\n",
    "print(f'Null count for Columns - \\n{null_count}\\n\\n')\n",
    "\n",
    "#Printing % of null counts for columns that have null count>0\n",
    "for column, null_co in null_count.iteritems():\n",
    "    print(f'Percentage of missing values for Column {column} - {null_co*100/data.shape[0]:.2f} %')\n",
    "    if (null_co*100/data.shape[0]) > 0:\n",
    "      col = column \n",
    "      data[data.isnull().any(axis=1)][[col]]"
   ]
  },
  {
   "cell_type": "code",
   "execution_count": null,
   "metadata": {
    "id": "Kq2ddqMyflEc"
   },
   "outputs": [],
   "source": [
    "data = data.dropna()"
   ]
  },
  {
   "cell_type": "code",
   "execution_count": null,
   "metadata": {
    "id": "yXbEbvJbfqSU"
   },
   "outputs": [],
   "source": [
    "#Counting Null values for each column\n",
    "null_count = data.isnull().sum()\n",
    "null_count = null_count[null_count>0]\n",
    "print(null_count)"
   ]
  },
  {
   "cell_type": "code",
   "execution_count": null,
   "metadata": {
    "id": "UcO567fofvdv"
   },
   "outputs": [],
   "source": [
    "#Checking boolean False counts for each column, an empty/blank string or integer 0 will result in a False value\n",
    "#for boolean type\n",
    "bool_counts = data.astype(bool).sum(axis=0)\n",
    "for col, val in bool_counts.iteritems():\n",
    "    print(f'{col} Percentage Boolean False Counts {(data.shape[0]-val)*100/data.shape[0]:.2f}')"
   ]
  },
  {
   "cell_type": "code",
   "execution_count": null,
   "metadata": {
    "id": "ULVSeNHUf50u"
   },
   "outputs": [],
   "source": [
    "sns.countplot(x = 'genre', data = data)"
   ]
  },
  {
   "cell_type": "code",
   "execution_count": 114,
   "metadata": {},
   "outputs": [],
   "source": [
    "labels = data.genre.unique()"
   ]
  },
  {
   "cell_type": "markdown",
   "metadata": {
    "id": "EYqccOc9n-8z"
   },
   "source": [
    "Partition data"
   ]
  },
  {
   "cell_type": "code",
   "execution_count": null,
   "metadata": {
    "id": "Yv7WXRIUmKdY"
   },
   "outputs": [],
   "source": [
    "data.count()"
   ]
  },
  {
   "cell_type": "code",
   "execution_count": null,
   "metadata": {
    "id": "p4WsRORPyS2F"
   },
   "outputs": [],
   "source": [
    "data_new = data.drop(columns=['genre','title', 'track_id'])"
   ]
  },
  {
   "cell_type": "code",
   "execution_count": null,
   "metadata": {
    "id": "CtaUn82EKh6c"
   },
   "outputs": [],
   "source": [
    "#classification data splitting \n",
    "X_train,X_test, Y_train, Y_test = train_test_split(data_new.iloc[:,:], data['genre'], test_size = 0.2, random_state=1)"
   ]
  },
  {
   "cell_type": "code",
   "execution_count": null,
   "metadata": {
    "id": "fyY3ap2QK_4r"
   },
   "outputs": [],
   "source": [
    "print(X_train.info())"
   ]
  },
  {
   "cell_type": "code",
   "execution_count": null,
   "metadata": {
    "id": "3-jawelNLufd"
   },
   "outputs": [],
   "source": [
    "# Explore test set\n",
    "print(X_test.info())"
   ]
  },
  {
   "cell_type": "markdown",
   "metadata": {
    "id": "1SVLEBoRLRrt"
   },
   "source": [
    "**Standardize the data**"
   ]
  },
  {
   "cell_type": "code",
   "execution_count": null,
   "metadata": {
    "id": "argX11ioLXuW"
   },
   "outputs": [],
   "source": [
    "scaler = StandardScaler()\n",
    "scaler.fit(X_train)\n",
    "X_train = scaler.transform(X_train)\n",
    "X_test = scaler.transform(X_test)"
   ]
  },
  {
   "cell_type": "code",
   "execution_count": null,
   "metadata": {
    "id": "MXhx5PJTysp5"
   },
   "outputs": [],
   "source": [
    "# # SelectKBest(f_classif, k=20).fit_transform(X_train, Y_train)\n",
    "# f_classif(X_train, Y_train)\n",
    "# np.mean(f_classif(X_train, Y_train)[0])"
   ]
  },
  {
   "cell_type": "code",
   "execution_count": null,
   "metadata": {},
   "outputs": [],
   "source": [
    "# cv_scores_dict = {}\n",
    "# C_values = [0.01,0.1,1,5,10]\n",
    "# for kernel in ['linear', 'rbf']:\n",
    "#     cv_scores = []\n",
    "#     for c in C_values:    \n",
    "#         SVM_model = SVC(kernel = kernel, C=c)\n",
    "#         cv_scores.append(np.mean(cross_val_score(SVM_model, X_train, Y_train, cv=10)))\n",
    "#     max_cv_score = max(cv_scores)\n",
    "#     max_C_Value = C_values[cv_scores.index(max_cv_score)]\n",
    "#     cv_scores_dict[kernel] = {'C': max_C_Value, 'cv_score': max_cv_score}\n",
    "# print(cv_scores_dict)"
   ]
  },
  {
   "cell_type": "code",
   "execution_count": null,
   "metadata": {},
   "outputs": [],
   "source": [
    "cv_scores_dict = {'linear': {'C': 1, 'cv_score': 0.4689671361502348}, 'rbf': {'C': 5, 'cv_score': 0.5107103384194053}}"
   ]
  },
  {
   "cell_type": "code",
   "execution_count": null,
   "metadata": {},
   "outputs": [],
   "source": [
    "C_values = [0.01,0.1,1,5,10]\n",
    "kernel = 'poly'\n",
    "for degree in [2,3,4,5]:\n",
    "    cv_scores = []\n",
    "    for c in C_values:    \n",
    "        SVM_model = SVC(kernel = kernel, C=c, degree= degree)\n",
    "        cv_scores.append(np.mean(cross_val_score(SVM_model, X_train, Y_train, cv=10,n_jobs=-1)))\n",
    "    max_cv_score = max(cv_scores)\n",
    "    max_C_Value = C_values[cv_scores.index(max_cv_score)]\n",
    "    cv_scores_dict[kernel] = {'C': max_C_Value, 'cv_score': max_cv_score, 'degree': degree}\n",
    "print(cv_scores_dict)"
   ]
  },
  {
   "cell_type": "code",
   "execution_count": 95,
   "metadata": {},
   "outputs": [
    {
     "name": "stdout",
     "output_type": "stream",
     "text": [
      "{'linear': {'C': 1, 'cv_score': 0.4689671361502348}, 'rbf': {'C': 10, 'cv_score': 0.38033646322378717, 'degree': 5}}\n"
     ]
    }
   ],
   "source": [
    "print(cv_scores_dict)"
   ]
  },
  {
   "cell_type": "code",
   "execution_count": 127,
   "metadata": {},
   "outputs": [],
   "source": [
    "svm_model = SVC(kernel = 'rbf', C=5, )\n",
    "svm_model.fit(X_train, Y_train)\n",
    "predicted_labels = svm_model.predict(X_test)\n"
   ]
  },
  {
   "cell_type": "code",
   "execution_count": 128,
   "metadata": {},
   "outputs": [
    {
     "name": "stdout",
     "output_type": "stream",
     "text": [
      "0.5325\n"
     ]
    },
    {
     "data": {
      "text/plain": [
       "<AxesSubplot:xlabel='Predicted', ylabel='Actual'>"
      ]
     },
     "execution_count": 128,
     "metadata": {},
     "output_type": "execute_result"
    },
    {
     "data": {
      "image/png": "[encoded data removed]",
      "text/plain": [
       "<Figure size 720x504 with 2 Axes>"
      ]
     },
     "metadata": {},
     "output_type": "display_data"
    }
   ],
   "source": [
    "accuracy = accuracy_score(Y_test, predicted_labels)\n",
    "print(accuracy)\n",
    "data = confusion_matrix(Y_test, predicted_labels, normalize='pred', labels = labels)\n",
    "df_cm = pd.DataFrame(data, columns=np.unique(Y_test), index = np.unique(Y_test))\n",
    "df_cm.index.name = 'Actual'\n",
    "df_cm.columns.name = 'Predicted'\n",
    "plt.figure(figsize = (10,7))\n",
    "sns.set(font_scale=1)#for label size\n",
    "sns.heatmap(df_cm, cmap=\"Blues\", annot=True,annot_kws={\"size\": 16},fmt = \".3f\")"
   ]
  }
 ],
 "metadata": {
  "colab": {
   "collapsed_sections": [],
   "include_colab_link": true,
   "name": "data_exploration.ipynb",
   "private_outputs": true,
   "provenance": []
  },
  "kernelspec": {
   "display_name": "Python 3",
   "language": "python",
   "name": "python3"
  },
  "language_info": {
   "codemirror_mode": {
    "name": "ipython",
    "version": 3
   },
   "file_extension": ".py",
   "mimetype": "text/x-python",
   "name": "python",
   "nbconvert_exporter": "python",
   "pygments_lexer": "ipython3",
   "version": "3.6.5"
  }
 },
 "nbformat": 4,
 "nbformat_minor": 1
}
