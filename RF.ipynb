{
 "cells": [
  {
   "cell_type": "markdown",
   "metadata": {
    "colab_type": "text",
    "id": "view-in-github"
   },
   "source": [
    "<a href=\"https://colab.research.google.com/github/saurabhsangwan/music-genre-classification/blob/main/RF.ipynb\" target=\"_parent\"><img src=\"https://colab.research.google.com/assets/colab-badge.svg\" alt=\"Open In Colab\"/></a>"
   ]
  },
  {
   "cell_type": "code",
   "execution_count": null,
   "metadata": {
    "id": "ZdrsZ6HFd92c"
   },
   "outputs": [],
   "source": [
    "# # Mount Google Drive\n",
    "# from google.colab import drive # import drive from google colab\n",
    "\n",
    "# ROOT = \"/content/drive\"     # default location for the drive\n",
    "# print(ROOT)                 # print content of ROOT (Optional)\n",
    "\n",
    "# drive.mount(ROOT)"
   ]
  },
  {
   "cell_type": "code",
   "execution_count": null,
   "metadata": {
    "id": "pmxP_zWPeSj9"
   },
   "outputs": [],
   "source": [
    "# %cd drive/MyDrive/IDS"
   ]
  },
  {
   "cell_type": "code",
   "execution_count": 1,
   "metadata": {
    "id": "ubbO93Iselw6"
   },
   "outputs": [],
   "source": [
    "import pandas as pd\n",
    "import numpy as np\n",
    "import scipy.stats as st\n",
    "import plotly.figure_factory as ff\n",
    "import seaborn as sns\n",
    "import warnings\n",
    "import pandas as pd\n",
    "import numpy as np\n",
    "from sklearn.model_selection import train_test_split, KFold, cross_val_score\n",
    "from sklearn.preprocessing import StandardScaler  \n",
    "from sklearn.model_selection import train_test_split\n",
    "from sklearn.linear_model import LinearRegression\n",
    "from sklearn import linear_model\n",
    "from sklearn.cluster import KMeans, DBSCAN\n",
    "from sklearn import metrics\n",
    "import seaborn as sns\n",
    "import matplotlib.pyplot as plt\n",
    "from sklearn.tree import DecisionTreeClassifier\n",
    "from sklearn.neighbors import KNeighborsClassifier \n",
    "from sklearn.naive_bayes import GaussianNB\n",
    "from sklearn.svm import SVC\n",
    "import plotly.figure_factory as ff\n",
    "from sklearn.feature_selection import SelectKBest, f_classif"
   ]
  },
  {
   "cell_type": "code",
   "execution_count": 2,
   "metadata": {
    "id": "8vxReuRNeaTJ"
   },
   "outputs": [
    {
     "data": {
      "text/html": [
       "<div>\n",
       "<style scoped>\n",
       "    .dataframe tbody tr th:only-of-type {\n",
       "        vertical-align: middle;\n",
       "    }\n",
       "\n",
       "    .dataframe tbody tr th {\n",
       "        vertical-align: top;\n",
       "    }\n",
       "\n",
       "    .dataframe thead th {\n",
       "        text-align: right;\n",
       "    }\n",
       "</style>\n",
       "<table border=\"1\" class=\"dataframe\">\n",
       "  <thead>\n",
       "    <tr style=\"text-align: right;\">\n",
       "      <th></th>\n",
       "      <th>Unnamed: 0</th>\n",
       "      <th>track_id</th>\n",
       "      <th>genre</th>\n",
       "      <th>title</th>\n",
       "      <th>chroma_cens1</th>\n",
       "      <th>chroma_cens2</th>\n",
       "      <th>chroma_cens3</th>\n",
       "      <th>chroma_cens4</th>\n",
       "      <th>chroma_cens5</th>\n",
       "      <th>chroma_cens6</th>\n",
       "      <th>...</th>\n",
       "      <th>spectral_contrast6</th>\n",
       "      <th>spectral_contrast7</th>\n",
       "      <th>spectral_rolloff1</th>\n",
       "      <th>tonnetz1</th>\n",
       "      <th>tonnetz2</th>\n",
       "      <th>tonnetz3</th>\n",
       "      <th>tonnetz4</th>\n",
       "      <th>tonnetz5</th>\n",
       "      <th>tonnetz6</th>\n",
       "      <th>zcr1</th>\n",
       "    </tr>\n",
       "  </thead>\n",
       "  <tbody>\n",
       "    <tr>\n",
       "      <th>0</th>\n",
       "      <td>0</td>\n",
       "      <td>135054</td>\n",
       "      <td>Experimental</td>\n",
       "      <td>Hari Karl (for Larry Eisenberg)</td>\n",
       "      <td>0.310373</td>\n",
       "      <td>0.308683</td>\n",
       "      <td>0.290821</td>\n",
       "      <td>0.297749</td>\n",
       "      <td>0.287629</td>\n",
       "      <td>0.260195</td>\n",
       "      <td>...</td>\n",
       "      <td>17.265811</td>\n",
       "      <td>42.597892</td>\n",
       "      <td>2571.502445</td>\n",
       "      <td>-0.002862</td>\n",
       "      <td>-0.000695</td>\n",
       "      <td>0.004706</td>\n",
       "      <td>-0.006419</td>\n",
       "      <td>0.005246</td>\n",
       "      <td>-0.001563</td>\n",
       "      <td>0.070002</td>\n",
       "    </tr>\n",
       "    <tr>\n",
       "      <th>1</th>\n",
       "      <td>1</td>\n",
       "      <td>135336</td>\n",
       "      <td>Pop</td>\n",
       "      <td>Slow and Steady</td>\n",
       "      <td>0.161290</td>\n",
       "      <td>0.161296</td>\n",
       "      <td>0.190398</td>\n",
       "      <td>0.171992</td>\n",
       "      <td>0.189878</td>\n",
       "      <td>0.187176</td>\n",
       "      <td>...</td>\n",
       "      <td>20.103589</td>\n",
       "      <td>33.081974</td>\n",
       "      <td>4486.854020</td>\n",
       "      <td>-0.006867</td>\n",
       "      <td>-0.004326</td>\n",
       "      <td>-0.092237</td>\n",
       "      <td>0.019405</td>\n",
       "      <td>-0.006026</td>\n",
       "      <td>0.015697</td>\n",
       "      <td>0.085219</td>\n",
       "    </tr>\n",
       "    <tr>\n",
       "      <th>2</th>\n",
       "      <td>2</td>\n",
       "      <td>135337</td>\n",
       "      <td>Pop</td>\n",
       "      <td>The Dream and the Dreamer</td>\n",
       "      <td>0.443386</td>\n",
       "      <td>0.357355</td>\n",
       "      <td>0.191626</td>\n",
       "      <td>0.202726</td>\n",
       "      <td>0.284854</td>\n",
       "      <td>0.236113</td>\n",
       "      <td>...</td>\n",
       "      <td>21.580315</td>\n",
       "      <td>32.187206</td>\n",
       "      <td>4382.598041</td>\n",
       "      <td>0.024635</td>\n",
       "      <td>-0.007949</td>\n",
       "      <td>0.011779</td>\n",
       "      <td>0.130071</td>\n",
       "      <td>0.014134</td>\n",
       "      <td>0.009135</td>\n",
       "      <td>0.108170</td>\n",
       "    </tr>\n",
       "    <tr>\n",
       "      <th>3</th>\n",
       "      <td>3</td>\n",
       "      <td>135043</td>\n",
       "      <td>Folk</td>\n",
       "      <td>Babel</td>\n",
       "      <td>0.141946</td>\n",
       "      <td>0.153972</td>\n",
       "      <td>0.169128</td>\n",
       "      <td>0.218597</td>\n",
       "      <td>0.385648</td>\n",
       "      <td>0.400918</td>\n",
       "      <td>...</td>\n",
       "      <td>21.147088</td>\n",
       "      <td>32.537513</td>\n",
       "      <td>4162.319868</td>\n",
       "      <td>0.017150</td>\n",
       "      <td>-0.001607</td>\n",
       "      <td>-0.063755</td>\n",
       "      <td>0.005411</td>\n",
       "      <td>0.006720</td>\n",
       "      <td>-0.011991</td>\n",
       "      <td>0.074080</td>\n",
       "    </tr>\n",
       "    <tr>\n",
       "      <th>4</th>\n",
       "      <td>4</td>\n",
       "      <td>135091</td>\n",
       "      <td>Experimental</td>\n",
       "      <td>Tree and Wind</td>\n",
       "      <td>0.017648</td>\n",
       "      <td>0.017463</td>\n",
       "      <td>0.035690</td>\n",
       "      <td>0.158926</td>\n",
       "      <td>0.163426</td>\n",
       "      <td>0.064951</td>\n",
       "      <td>...</td>\n",
       "      <td>19.401185</td>\n",
       "      <td>34.605480</td>\n",
       "      <td>4653.557040</td>\n",
       "      <td>-0.002268</td>\n",
       "      <td>-0.042291</td>\n",
       "      <td>0.160464</td>\n",
       "      <td>-0.144974</td>\n",
       "      <td>0.053375</td>\n",
       "      <td>-0.030622</td>\n",
       "      <td>0.100463</td>\n",
       "    </tr>\n",
       "  </tbody>\n",
       "</table>\n",
       "<p>5 rows × 78 columns</p>\n",
       "</div>"
      ],
      "text/plain": [
       "   Unnamed: 0  track_id         genre                            title  \\\n",
       "0           0    135054  Experimental  Hari Karl (for Larry Eisenberg)   \n",
       "1           1    135336           Pop                  Slow and Steady   \n",
       "2           2    135337           Pop        The Dream and the Dreamer   \n",
       "3           3    135043          Folk                            Babel   \n",
       "4           4    135091  Experimental                    Tree and Wind   \n",
       "\n",
       "   chroma_cens1  chroma_cens2  chroma_cens3  chroma_cens4  chroma_cens5  \\\n",
       "0      0.310373      0.308683      0.290821      0.297749      0.287629   \n",
       "1      0.161290      0.161296      0.190398      0.171992      0.189878   \n",
       "2      0.443386      0.357355      0.191626      0.202726      0.284854   \n",
       "3      0.141946      0.153972      0.169128      0.218597      0.385648   \n",
       "4      0.017648      0.017463      0.035690      0.158926      0.163426   \n",
       "\n",
       "   chroma_cens6  ...  spectral_contrast6  spectral_contrast7  \\\n",
       "0      0.260195  ...           17.265811           42.597892   \n",
       "1      0.187176  ...           20.103589           33.081974   \n",
       "2      0.236113  ...           21.580315           32.187206   \n",
       "3      0.400918  ...           21.147088           32.537513   \n",
       "4      0.064951  ...           19.401185           34.605480   \n",
       "\n",
       "   spectral_rolloff1  tonnetz1  tonnetz2  tonnetz3  tonnetz4  tonnetz5  \\\n",
       "0        2571.502445 -0.002862 -0.000695  0.004706 -0.006419  0.005246   \n",
       "1        4486.854020 -0.006867 -0.004326 -0.092237  0.019405 -0.006026   \n",
       "2        4382.598041  0.024635 -0.007949  0.011779  0.130071  0.014134   \n",
       "3        4162.319868  0.017150 -0.001607 -0.063755  0.005411  0.006720   \n",
       "4        4653.557040 -0.002268 -0.042291  0.160464 -0.144974  0.053375   \n",
       "\n",
       "   tonnetz6      zcr1  \n",
       "0 -0.001563  0.070002  \n",
       "1  0.015697  0.085219  \n",
       "2  0.009135  0.108170  \n",
       "3 -0.011991  0.074080  \n",
       "4 -0.030622  0.100463  \n",
       "\n",
       "[5 rows x 78 columns]"
      ]
     },
     "execution_count": 2,
     "metadata": {},
     "output_type": "execute_result"
    }
   ],
   "source": [
    "data = pd.read_csv(\"./data/merged_data.csv\")\n",
    "data.head()"
   ]
  },
  {
   "cell_type": "code",
   "execution_count": 3,
   "metadata": {
    "id": "Vx41TFJ-NCt0"
   },
   "outputs": [],
   "source": [
    "data= data.drop(columns=['Unnamed: 0'])"
   ]
  },
  {
   "cell_type": "code",
   "execution_count": 4,
   "metadata": {
    "id": "Mn4Q3XqPoLVI"
   },
   "outputs": [
    {
     "data": {
      "text/plain": [
       "track_id        7997\n",
       "genre           7997\n",
       "title           7997\n",
       "chroma_cens1    7997\n",
       "chroma_cens2    7997\n",
       "                ... \n",
       "tonnetz3        7997\n",
       "tonnetz4        7997\n",
       "tonnetz5        7997\n",
       "tonnetz6        7997\n",
       "zcr1            7997\n",
       "Length: 77, dtype: int64"
      ]
     },
     "execution_count": 4,
     "metadata": {},
     "output_type": "execute_result"
    }
   ],
   "source": [
    "data.count()"
   ]
  },
  {
   "cell_type": "code",
   "execution_count": 5,
   "metadata": {
    "id": "duZX9RN1NYM_"
   },
   "outputs": [
    {
     "data": {
      "text/html": [
       "<div>\n",
       "<style scoped>\n",
       "    .dataframe tbody tr th:only-of-type {\n",
       "        vertical-align: middle;\n",
       "    }\n",
       "\n",
       "    .dataframe tbody tr th {\n",
       "        vertical-align: top;\n",
       "    }\n",
       "\n",
       "    .dataframe thead th {\n",
       "        text-align: right;\n",
       "    }\n",
       "</style>\n",
       "<table border=\"1\" class=\"dataframe\">\n",
       "  <thead>\n",
       "    <tr style=\"text-align: right;\">\n",
       "      <th></th>\n",
       "      <th>track_id</th>\n",
       "      <th>genre</th>\n",
       "      <th>title</th>\n",
       "      <th>chroma_cens1</th>\n",
       "      <th>chroma_cens2</th>\n",
       "      <th>chroma_cens3</th>\n",
       "      <th>chroma_cens4</th>\n",
       "      <th>chroma_cens5</th>\n",
       "      <th>chroma_cens6</th>\n",
       "      <th>chroma_cens7</th>\n",
       "      <th>...</th>\n",
       "      <th>spectral_contrast6</th>\n",
       "      <th>spectral_contrast7</th>\n",
       "      <th>spectral_rolloff1</th>\n",
       "      <th>tonnetz1</th>\n",
       "      <th>tonnetz2</th>\n",
       "      <th>tonnetz3</th>\n",
       "      <th>tonnetz4</th>\n",
       "      <th>tonnetz5</th>\n",
       "      <th>tonnetz6</th>\n",
       "      <th>zcr1</th>\n",
       "    </tr>\n",
       "  </thead>\n",
       "  <tbody>\n",
       "    <tr>\n",
       "      <th>0</th>\n",
       "      <td>135054</td>\n",
       "      <td>Experimental</td>\n",
       "      <td>Hari Karl (for Larry Eisenberg)</td>\n",
       "      <td>0.310373</td>\n",
       "      <td>0.308683</td>\n",
       "      <td>0.290821</td>\n",
       "      <td>0.297749</td>\n",
       "      <td>0.287629</td>\n",
       "      <td>0.260195</td>\n",
       "      <td>0.229743</td>\n",
       "      <td>...</td>\n",
       "      <td>17.265811</td>\n",
       "      <td>42.597892</td>\n",
       "      <td>2571.502445</td>\n",
       "      <td>-0.002862</td>\n",
       "      <td>-0.000695</td>\n",
       "      <td>0.004706</td>\n",
       "      <td>-0.006419</td>\n",
       "      <td>0.005246</td>\n",
       "      <td>-0.001563</td>\n",
       "      <td>0.070002</td>\n",
       "    </tr>\n",
       "    <tr>\n",
       "      <th>1</th>\n",
       "      <td>135336</td>\n",
       "      <td>Pop</td>\n",
       "      <td>Slow and Steady</td>\n",
       "      <td>0.161290</td>\n",
       "      <td>0.161296</td>\n",
       "      <td>0.190398</td>\n",
       "      <td>0.171992</td>\n",
       "      <td>0.189878</td>\n",
       "      <td>0.187176</td>\n",
       "      <td>0.231823</td>\n",
       "      <td>...</td>\n",
       "      <td>20.103589</td>\n",
       "      <td>33.081974</td>\n",
       "      <td>4486.854020</td>\n",
       "      <td>-0.006867</td>\n",
       "      <td>-0.004326</td>\n",
       "      <td>-0.092237</td>\n",
       "      <td>0.019405</td>\n",
       "      <td>-0.006026</td>\n",
       "      <td>0.015697</td>\n",
       "      <td>0.085219</td>\n",
       "    </tr>\n",
       "    <tr>\n",
       "      <th>2</th>\n",
       "      <td>135337</td>\n",
       "      <td>Pop</td>\n",
       "      <td>The Dream and the Dreamer</td>\n",
       "      <td>0.443386</td>\n",
       "      <td>0.357355</td>\n",
       "      <td>0.191626</td>\n",
       "      <td>0.202726</td>\n",
       "      <td>0.284854</td>\n",
       "      <td>0.236113</td>\n",
       "      <td>0.234724</td>\n",
       "      <td>...</td>\n",
       "      <td>21.580315</td>\n",
       "      <td>32.187206</td>\n",
       "      <td>4382.598041</td>\n",
       "      <td>0.024635</td>\n",
       "      <td>-0.007949</td>\n",
       "      <td>0.011779</td>\n",
       "      <td>0.130071</td>\n",
       "      <td>0.014134</td>\n",
       "      <td>0.009135</td>\n",
       "      <td>0.108170</td>\n",
       "    </tr>\n",
       "    <tr>\n",
       "      <th>3</th>\n",
       "      <td>135043</td>\n",
       "      <td>Folk</td>\n",
       "      <td>Babel</td>\n",
       "      <td>0.141946</td>\n",
       "      <td>0.153972</td>\n",
       "      <td>0.169128</td>\n",
       "      <td>0.218597</td>\n",
       "      <td>0.385648</td>\n",
       "      <td>0.400918</td>\n",
       "      <td>0.308826</td>\n",
       "      <td>...</td>\n",
       "      <td>21.147088</td>\n",
       "      <td>32.537513</td>\n",
       "      <td>4162.319868</td>\n",
       "      <td>0.017150</td>\n",
       "      <td>-0.001607</td>\n",
       "      <td>-0.063755</td>\n",
       "      <td>0.005411</td>\n",
       "      <td>0.006720</td>\n",
       "      <td>-0.011991</td>\n",
       "      <td>0.074080</td>\n",
       "    </tr>\n",
       "    <tr>\n",
       "      <th>4</th>\n",
       "      <td>135091</td>\n",
       "      <td>Experimental</td>\n",
       "      <td>Tree and Wind</td>\n",
       "      <td>0.017648</td>\n",
       "      <td>0.017463</td>\n",
       "      <td>0.035690</td>\n",
       "      <td>0.158926</td>\n",
       "      <td>0.163426</td>\n",
       "      <td>0.064951</td>\n",
       "      <td>0.212070</td>\n",
       "      <td>...</td>\n",
       "      <td>19.401185</td>\n",
       "      <td>34.605480</td>\n",
       "      <td>4653.557040</td>\n",
       "      <td>-0.002268</td>\n",
       "      <td>-0.042291</td>\n",
       "      <td>0.160464</td>\n",
       "      <td>-0.144974</td>\n",
       "      <td>0.053375</td>\n",
       "      <td>-0.030622</td>\n",
       "      <td>0.100463</td>\n",
       "    </tr>\n",
       "  </tbody>\n",
       "</table>\n",
       "<p>5 rows × 77 columns</p>\n",
       "</div>"
      ],
      "text/plain": [
       "   track_id         genre                            title  chroma_cens1  \\\n",
       "0    135054  Experimental  Hari Karl (for Larry Eisenberg)      0.310373   \n",
       "1    135336           Pop                  Slow and Steady      0.161290   \n",
       "2    135337           Pop        The Dream and the Dreamer      0.443386   \n",
       "3    135043          Folk                            Babel      0.141946   \n",
       "4    135091  Experimental                    Tree and Wind      0.017648   \n",
       "\n",
       "   chroma_cens2  chroma_cens3  chroma_cens4  chroma_cens5  chroma_cens6  \\\n",
       "0      0.308683      0.290821      0.297749      0.287629      0.260195   \n",
       "1      0.161296      0.190398      0.171992      0.189878      0.187176   \n",
       "2      0.357355      0.191626      0.202726      0.284854      0.236113   \n",
       "3      0.153972      0.169128      0.218597      0.385648      0.400918   \n",
       "4      0.017463      0.035690      0.158926      0.163426      0.064951   \n",
       "\n",
       "   chroma_cens7  ...  spectral_contrast6  spectral_contrast7  \\\n",
       "0      0.229743  ...           17.265811           42.597892   \n",
       "1      0.231823  ...           20.103589           33.081974   \n",
       "2      0.234724  ...           21.580315           32.187206   \n",
       "3      0.308826  ...           21.147088           32.537513   \n",
       "4      0.212070  ...           19.401185           34.605480   \n",
       "\n",
       "   spectral_rolloff1  tonnetz1  tonnetz2  tonnetz3  tonnetz4  tonnetz5  \\\n",
       "0        2571.502445 -0.002862 -0.000695  0.004706 -0.006419  0.005246   \n",
       "1        4486.854020 -0.006867 -0.004326 -0.092237  0.019405 -0.006026   \n",
       "2        4382.598041  0.024635 -0.007949  0.011779  0.130071  0.014134   \n",
       "3        4162.319868  0.017150 -0.001607 -0.063755  0.005411  0.006720   \n",
       "4        4653.557040 -0.002268 -0.042291  0.160464 -0.144974  0.053375   \n",
       "\n",
       "   tonnetz6      zcr1  \n",
       "0 -0.001563  0.070002  \n",
       "1  0.015697  0.085219  \n",
       "2  0.009135  0.108170  \n",
       "3 -0.011991  0.074080  \n",
       "4 -0.030622  0.100463  \n",
       "\n",
       "[5 rows x 77 columns]"
      ]
     },
     "execution_count": 5,
     "metadata": {},
     "output_type": "execute_result"
    }
   ],
   "source": [
    "data.head()"
   ]
  },
  {
   "cell_type": "code",
   "execution_count": 6,
   "metadata": {
    "id": "TM4nPa7Aexkt"
   },
   "outputs": [
    {
     "name": "stdout",
     "output_type": "stream",
     "text": [
      "Number of variables - 77\n",
      "\n",
      "Data Types for each variable - \n",
      "track_id          int64\n",
      "genre            object\n",
      "title            object\n",
      "chroma_cens1    float64\n",
      "chroma_cens2    float64\n",
      "                 ...   \n",
      "tonnetz3        float64\n",
      "tonnetz4        float64\n",
      "tonnetz5        float64\n",
      "tonnetz6        float64\n",
      "zcr1            float64\n",
      "Length: 77, dtype: object\n",
      "\n",
      "Number of variables for each data type - \n",
      "float64    74\n",
      "object      2\n",
      "int64       1\n",
      "dtype: int64\n"
     ]
    }
   ],
   "source": [
    "#explore data\n",
    "print(f'Number of variables - {data.shape[1]}\\n')\n",
    "print(f'Data Types for each variable - \\n{data.dtypes}\\n')\n",
    "print(f'Number of variables for each data type - \\n{data.dtypes.value_counts()}')"
   ]
  },
  {
   "cell_type": "code",
   "execution_count": 7,
   "metadata": {
    "id": "tMvcRkVFfFA4"
   },
   "outputs": [
    {
     "name": "stdout",
     "output_type": "stream",
     "text": [
      "Null count for Columns - \n",
      "Series([], dtype: int64)\n",
      "\n",
      "\n"
     ]
    }
   ],
   "source": [
    "#search missing data\n",
    "#Counting Null values for each column\n",
    "null_count = data.isnull().sum()\n",
    "null_count = null_count[null_count>0]\n",
    "\n",
    "#Printing null counts for columns that have null count >0\n",
    "print(f'Null count for Columns - \\n{null_count}\\n\\n')\n",
    "\n",
    "#Printing % of null counts for columns that have null count>0\n",
    "for column, null_co in null_count.iteritems():\n",
    "    print(f'Percentage of missing values for Column {column} - {null_co*100/data.shape[0]:.2f} %')\n",
    "    if (null_co*100/data.shape[0]) > 0:\n",
    "      col = column \n",
    "      data[data.isnull().any(axis=1)][[col]]"
   ]
  },
  {
   "cell_type": "code",
   "execution_count": 8,
   "metadata": {
    "id": "Kq2ddqMyflEc"
   },
   "outputs": [],
   "source": [
    "data = data.dropna()"
   ]
  },
  {
   "cell_type": "code",
   "execution_count": 9,
   "metadata": {
    "id": "yXbEbvJbfqSU"
   },
   "outputs": [
    {
     "name": "stdout",
     "output_type": "stream",
     "text": [
      "Series([], dtype: int64)\n"
     ]
    }
   ],
   "source": [
    "#Counting Null values for each column\n",
    "null_count = data.isnull().sum()\n",
    "null_count = null_count[null_count>0]\n",
    "print(null_count)"
   ]
  },
  {
   "cell_type": "code",
   "execution_count": 10,
   "metadata": {
    "id": "UcO567fofvdv"
   },
   "outputs": [
    {
     "name": "stdout",
     "output_type": "stream",
     "text": [
      "track_id Percentage Boolean False Counts 0.00\n",
      "genre Percentage Boolean False Counts 0.00\n",
      "title Percentage Boolean False Counts 0.00\n",
      "chroma_cens1 Percentage Boolean False Counts 0.03\n",
      "chroma_cens2 Percentage Boolean False Counts 0.03\n",
      "chroma_cens3 Percentage Boolean False Counts 0.03\n",
      "chroma_cens4 Percentage Boolean False Counts 0.01\n",
      "chroma_cens5 Percentage Boolean False Counts 0.01\n",
      "chroma_cens6 Percentage Boolean False Counts 0.03\n",
      "chroma_cens7 Percentage Boolean False Counts 0.01\n",
      "chroma_cens8 Percentage Boolean False Counts 0.01\n",
      "chroma_cens9 Percentage Boolean False Counts 0.01\n",
      "chroma_cens10 Percentage Boolean False Counts 0.03\n",
      "chroma_cens11 Percentage Boolean False Counts 0.03\n",
      "chroma_cens12 Percentage Boolean False Counts 0.03\n",
      "chroma_cqt1 Percentage Boolean False Counts 0.01\n",
      "chroma_cqt2 Percentage Boolean False Counts 0.01\n",
      "chroma_cqt3 Percentage Boolean False Counts 0.01\n",
      "chroma_cqt4 Percentage Boolean False Counts 0.01\n",
      "chroma_cqt5 Percentage Boolean False Counts 0.01\n",
      "chroma_cqt6 Percentage Boolean False Counts 0.01\n",
      "chroma_cqt7 Percentage Boolean False Counts 0.01\n",
      "chroma_cqt8 Percentage Boolean False Counts 0.01\n",
      "chroma_cqt9 Percentage Boolean False Counts 0.01\n",
      "chroma_cqt10 Percentage Boolean False Counts 0.01\n",
      "chroma_cqt11 Percentage Boolean False Counts 0.01\n",
      "chroma_cqt12 Percentage Boolean False Counts 0.01\n",
      "chroma_stft1 Percentage Boolean False Counts 0.01\n",
      "chroma_stft2 Percentage Boolean False Counts 0.01\n",
      "chroma_stft3 Percentage Boolean False Counts 0.01\n",
      "chroma_stft4 Percentage Boolean False Counts 0.01\n",
      "chroma_stft5 Percentage Boolean False Counts 0.01\n",
      "chroma_stft6 Percentage Boolean False Counts 0.01\n",
      "chroma_stft7 Percentage Boolean False Counts 0.01\n",
      "chroma_stft8 Percentage Boolean False Counts 0.01\n",
      "chroma_stft9 Percentage Boolean False Counts 0.01\n",
      "chroma_stft10 Percentage Boolean False Counts 0.01\n",
      "chroma_stft11 Percentage Boolean False Counts 0.01\n",
      "chroma_stft12 Percentage Boolean False Counts 0.01\n",
      "mfcc1 Percentage Boolean False Counts 0.00\n",
      "mfcc2 Percentage Boolean False Counts 0.01\n",
      "mfcc3 Percentage Boolean False Counts 0.01\n",
      "mfcc4 Percentage Boolean False Counts 0.01\n",
      "mfcc5 Percentage Boolean False Counts 0.01\n",
      "mfcc6 Percentage Boolean False Counts 0.01\n",
      "mfcc7 Percentage Boolean False Counts 0.01\n",
      "mfcc8 Percentage Boolean False Counts 0.01\n",
      "mfcc9 Percentage Boolean False Counts 0.01\n",
      "mfcc10 Percentage Boolean False Counts 0.01\n",
      "mfcc11 Percentage Boolean False Counts 0.01\n",
      "mfcc12 Percentage Boolean False Counts 0.01\n",
      "mfcc13 Percentage Boolean False Counts 0.01\n",
      "mfcc14 Percentage Boolean False Counts 0.01\n",
      "mfcc15 Percentage Boolean False Counts 0.01\n",
      "mfcc16 Percentage Boolean False Counts 0.01\n",
      "mfcc17 Percentage Boolean False Counts 0.01\n",
      "mfcc18 Percentage Boolean False Counts 0.01\n",
      "mfcc19 Percentage Boolean False Counts 0.01\n",
      "mfcc20 Percentage Boolean False Counts 0.01\n",
      "rmse1 Percentage Boolean False Counts 0.01\n",
      "spectral_bandwidth1 Percentage Boolean False Counts 0.01\n",
      "spectral_centroid1 Percentage Boolean False Counts 0.01\n",
      "spectral_contrast1 Percentage Boolean False Counts 0.01\n",
      "spectral_contrast2 Percentage Boolean False Counts 0.01\n",
      "spectral_contrast3 Percentage Boolean False Counts 0.01\n",
      "spectral_contrast4 Percentage Boolean False Counts 0.01\n",
      "spectral_contrast5 Percentage Boolean False Counts 0.01\n",
      "spectral_contrast6 Percentage Boolean False Counts 0.01\n",
      "spectral_contrast7 Percentage Boolean False Counts 0.01\n",
      "spectral_rolloff1 Percentage Boolean False Counts 0.01\n",
      "tonnetz1 Percentage Boolean False Counts 0.01\n",
      "tonnetz2 Percentage Boolean False Counts 0.01\n",
      "tonnetz3 Percentage Boolean False Counts 0.01\n",
      "tonnetz4 Percentage Boolean False Counts 0.01\n",
      "tonnetz5 Percentage Boolean False Counts 0.01\n",
      "tonnetz6 Percentage Boolean False Counts 0.01\n",
      "zcr1 Percentage Boolean False Counts 0.01\n"
     ]
    }
   ],
   "source": [
    "#Checking boolean False counts for each column, an empty/blank string or integer 0 will result in a False value\n",
    "#for boolean type\n",
    "bool_counts = data.astype(bool).sum(axis=0)\n",
    "for col, val in bool_counts.iteritems():\n",
    "    print(f'{col} Percentage Boolean False Counts {(data.shape[0]-val)*100/data.shape[0]:.2f}')"
   ]
  },
  {
   "cell_type": "code",
   "execution_count": 11,
   "metadata": {
    "id": "ULVSeNHUf50u"
   },
   "outputs": [
    {
     "data": {
      "text/plain": [
       "<AxesSubplot:xlabel='genre', ylabel='count'>"
      ]
     },
     "execution_count": 11,
     "metadata": {},
     "output_type": "execute_result"
    },
    {
     "data": {
      "image/png": "[encoded data removed]",
      "text/plain": [
       "<Figure size 432x288 with 1 Axes>"
      ]
     },
     "metadata": {
      "needs_background": "light"
     },
     "output_type": "display_data"
    }
   ],
   "source": [
    "sns.countplot(x = 'genre', data = data)"
   ]
  },
  {
   "cell_type": "markdown",
   "metadata": {
    "id": "EYqccOc9n-8z"
   },
   "source": [
    "Partition data"
   ]
  },
  {
   "cell_type": "code",
   "execution_count": 12,
   "metadata": {
    "id": "Yv7WXRIUmKdY"
   },
   "outputs": [
    {
     "data": {
      "text/plain": [
       "track_id        7997\n",
       "genre           7997\n",
       "title           7997\n",
       "chroma_cens1    7997\n",
       "chroma_cens2    7997\n",
       "                ... \n",
       "tonnetz3        7997\n",
       "tonnetz4        7997\n",
       "tonnetz5        7997\n",
       "tonnetz6        7997\n",
       "zcr1            7997\n",
       "Length: 77, dtype: int64"
      ]
     },
     "execution_count": 12,
     "metadata": {},
     "output_type": "execute_result"
    }
   ],
   "source": [
    "data.count()"
   ]
  },
  {
   "cell_type": "code",
   "execution_count": 13,
   "metadata": {
    "id": "p4WsRORPyS2F"
   },
   "outputs": [],
   "source": [
    "data_new = data.drop(columns=['genre','title', 'track_id'])"
   ]
  },
  {
   "cell_type": "code",
   "execution_count": 14,
   "metadata": {
    "id": "CtaUn82EKh6c"
   },
   "outputs": [],
   "source": [
    "#classification data splitting \n",
    "X_train,X_test, Y_train, Y_test = train_test_split(data_new.iloc[:,:], data['genre'], test_size = 0.2, random_state=1)"
   ]
  },
  {
   "cell_type": "code",
   "execution_count": 15,
   "metadata": {
    "id": "fyY3ap2QK_4r"
   },
   "outputs": [
    {
     "name": "stdout",
     "output_type": "stream",
     "text": [
      "<class 'pandas.core.frame.DataFrame'>\n",
      "Int64Index: 6397 entries, 5418 to 5157\n",
      "Data columns (total 74 columns):\n",
      " #   Column               Non-Null Count  Dtype  \n",
      "---  ------               --------------  -----  \n",
      " 0   chroma_cens1         6397 non-null   float64\n",
      " 1   chroma_cens2         6397 non-null   float64\n",
      " 2   chroma_cens3         6397 non-null   float64\n",
      " 3   chroma_cens4         6397 non-null   float64\n",
      " 4   chroma_cens5         6397 non-null   float64\n",
      " 5   chroma_cens6         6397 non-null   float64\n",
      " 6   chroma_cens7         6397 non-null   float64\n",
      " 7   chroma_cens8         6397 non-null   float64\n",
      " 8   chroma_cens9         6397 non-null   float64\n",
      " 9   chroma_cens10        6397 non-null   float64\n",
      " 10  chroma_cens11        6397 non-null   float64\n",
      " 11  chroma_cens12        6397 non-null   float64\n",
      " 12  chroma_cqt1          6397 non-null   float64\n",
      " 13  chroma_cqt2          6397 non-null   float64\n",
      " 14  chroma_cqt3          6397 non-null   float64\n",
      " 15  chroma_cqt4          6397 non-null   float64\n",
      " 16  chroma_cqt5          6397 non-null   float64\n",
      " 17  chroma_cqt6          6397 non-null   float64\n",
      " 18  chroma_cqt7          6397 non-null   float64\n",
      " 19  chroma_cqt8          6397 non-null   float64\n",
      " 20  chroma_cqt9          6397 non-null   float64\n",
      " 21  chroma_cqt10         6397 non-null   float64\n",
      " 22  chroma_cqt11         6397 non-null   float64\n",
      " 23  chroma_cqt12         6397 non-null   float64\n",
      " 24  chroma_stft1         6397 non-null   float64\n",
      " 25  chroma_stft2         6397 non-null   float64\n",
      " 26  chroma_stft3         6397 non-null   float64\n",
      " 27  chroma_stft4         6397 non-null   float64\n",
      " 28  chroma_stft5         6397 non-null   float64\n",
      " 29  chroma_stft6         6397 non-null   float64\n",
      " 30  chroma_stft7         6397 non-null   float64\n",
      " 31  chroma_stft8         6397 non-null   float64\n",
      " 32  chroma_stft9         6397 non-null   float64\n",
      " 33  chroma_stft10        6397 non-null   float64\n",
      " 34  chroma_stft11        6397 non-null   float64\n",
      " 35  chroma_stft12        6397 non-null   float64\n",
      " 36  mfcc1                6397 non-null   float64\n",
      " 37  mfcc2                6397 non-null   float64\n",
      " 38  mfcc3                6397 non-null   float64\n",
      " 39  mfcc4                6397 non-null   float64\n",
      " 40  mfcc5                6397 non-null   float64\n",
      " 41  mfcc6                6397 non-null   float64\n",
      " 42  mfcc7                6397 non-null   float64\n",
      " 43  mfcc8                6397 non-null   float64\n",
      " 44  mfcc9                6397 non-null   float64\n",
      " 45  mfcc10               6397 non-null   float64\n",
      " 46  mfcc11               6397 non-null   float64\n",
      " 47  mfcc12               6397 non-null   float64\n",
      " 48  mfcc13               6397 non-null   float64\n",
      " 49  mfcc14               6397 non-null   float64\n",
      " 50  mfcc15               6397 non-null   float64\n",
      " 51  mfcc16               6397 non-null   float64\n",
      " 52  mfcc17               6397 non-null   float64\n",
      " 53  mfcc18               6397 non-null   float64\n",
      " 54  mfcc19               6397 non-null   float64\n",
      " 55  mfcc20               6397 non-null   float64\n",
      " 56  rmse1                6397 non-null   float64\n",
      " 57  spectral_bandwidth1  6397 non-null   float64\n",
      " 58  spectral_centroid1   6397 non-null   float64\n",
      " 59  spectral_contrast1   6397 non-null   float64\n",
      " 60  spectral_contrast2   6397 non-null   float64\n",
      " 61  spectral_contrast3   6397 non-null   float64\n",
      " 62  spectral_contrast4   6397 non-null   float64\n",
      " 63  spectral_contrast5   6397 non-null   float64\n",
      " 64  spectral_contrast6   6397 non-null   float64\n",
      " 65  spectral_contrast7   6397 non-null   float64\n",
      " 66  spectral_rolloff1    6397 non-null   float64\n",
      " 67  tonnetz1             6397 non-null   float64\n",
      " 68  tonnetz2             6397 non-null   float64\n",
      " 69  tonnetz3             6397 non-null   float64\n",
      " 70  tonnetz4             6397 non-null   float64\n",
      " 71  tonnetz5             6397 non-null   float64\n",
      " 72  tonnetz6             6397 non-null   float64\n",
      " 73  zcr1                 6397 non-null   float64\n",
      "dtypes: float64(74)\n",
      "memory usage: 3.7 MB\n",
      "None\n"
     ]
    }
   ],
   "source": [
    "print(X_train.info())"
   ]
  },
  {
   "cell_type": "code",
   "execution_count": 17,
   "metadata": {
    "id": "3-jawelNLufd"
   },
   "outputs": [
    {
     "name": "stdout",
     "output_type": "stream",
     "text": [
      "<class 'pandas.core.frame.DataFrame'>\n",
      "Int64Index: 1600 entries, 4739 to 6011\n",
      "Data columns (total 74 columns):\n",
      " #   Column               Non-Null Count  Dtype  \n",
      "---  ------               --------------  -----  \n",
      " 0   chroma_cens1         1600 non-null   float64\n",
      " 1   chroma_cens2         1600 non-null   float64\n",
      " 2   chroma_cens3         1600 non-null   float64\n",
      " 3   chroma_cens4         1600 non-null   float64\n",
      " 4   chroma_cens5         1600 non-null   float64\n",
      " 5   chroma_cens6         1600 non-null   float64\n",
      " 6   chroma_cens7         1600 non-null   float64\n",
      " 7   chroma_cens8         1600 non-null   float64\n",
      " 8   chroma_cens9         1600 non-null   float64\n",
      " 9   chroma_cens10        1600 non-null   float64\n",
      " 10  chroma_cens11        1600 non-null   float64\n",
      " 11  chroma_cens12        1600 non-null   float64\n",
      " 12  chroma_cqt1          1600 non-null   float64\n",
      " 13  chroma_cqt2          1600 non-null   float64\n",
      " 14  chroma_cqt3          1600 non-null   float64\n",
      " 15  chroma_cqt4          1600 non-null   float64\n",
      " 16  chroma_cqt5          1600 non-null   float64\n",
      " 17  chroma_cqt6          1600 non-null   float64\n",
      " 18  chroma_cqt7          1600 non-null   float64\n",
      " 19  chroma_cqt8          1600 non-null   float64\n",
      " 20  chroma_cqt9          1600 non-null   float64\n",
      " 21  chroma_cqt10         1600 non-null   float64\n",
      " 22  chroma_cqt11         1600 non-null   float64\n",
      " 23  chroma_cqt12         1600 non-null   float64\n",
      " 24  chroma_stft1         1600 non-null   float64\n",
      " 25  chroma_stft2         1600 non-null   float64\n",
      " 26  chroma_stft3         1600 non-null   float64\n",
      " 27  chroma_stft4         1600 non-null   float64\n",
      " 28  chroma_stft5         1600 non-null   float64\n",
      " 29  chroma_stft6         1600 non-null   float64\n",
      " 30  chroma_stft7         1600 non-null   float64\n",
      " 31  chroma_stft8         1600 non-null   float64\n",
      " 32  chroma_stft9         1600 non-null   float64\n",
      " 33  chroma_stft10        1600 non-null   float64\n",
      " 34  chroma_stft11        1600 non-null   float64\n",
      " 35  chroma_stft12        1600 non-null   float64\n",
      " 36  mfcc1                1600 non-null   float64\n",
      " 37  mfcc2                1600 non-null   float64\n",
      " 38  mfcc3                1600 non-null   float64\n",
      " 39  mfcc4                1600 non-null   float64\n",
      " 40  mfcc5                1600 non-null   float64\n",
      " 41  mfcc6                1600 non-null   float64\n",
      " 42  mfcc7                1600 non-null   float64\n",
      " 43  mfcc8                1600 non-null   float64\n",
      " 44  mfcc9                1600 non-null   float64\n",
      " 45  mfcc10               1600 non-null   float64\n",
      " 46  mfcc11               1600 non-null   float64\n",
      " 47  mfcc12               1600 non-null   float64\n",
      " 48  mfcc13               1600 non-null   float64\n",
      " 49  mfcc14               1600 non-null   float64\n",
      " 50  mfcc15               1600 non-null   float64\n",
      " 51  mfcc16               1600 non-null   float64\n",
      " 52  mfcc17               1600 non-null   float64\n",
      " 53  mfcc18               1600 non-null   float64\n",
      " 54  mfcc19               1600 non-null   float64\n",
      " 55  mfcc20               1600 non-null   float64\n",
      " 56  rmse1                1600 non-null   float64\n",
      " 57  spectral_bandwidth1  1600 non-null   float64\n",
      " 58  spectral_centroid1   1600 non-null   float64\n",
      " 59  spectral_contrast1   1600 non-null   float64\n",
      " 60  spectral_contrast2   1600 non-null   float64\n",
      " 61  spectral_contrast3   1600 non-null   float64\n",
      " 62  spectral_contrast4   1600 non-null   float64\n",
      " 63  spectral_contrast5   1600 non-null   float64\n",
      " 64  spectral_contrast6   1600 non-null   float64\n",
      " 65  spectral_contrast7   1600 non-null   float64\n",
      " 66  spectral_rolloff1    1600 non-null   float64\n",
      " 67  tonnetz1             1600 non-null   float64\n",
      " 68  tonnetz2             1600 non-null   float64\n",
      " 69  tonnetz3             1600 non-null   float64\n",
      " 70  tonnetz4             1600 non-null   float64\n",
      " 71  tonnetz5             1600 non-null   float64\n",
      " 72  tonnetz6             1600 non-null   float64\n",
      " 73  zcr1                 1600 non-null   float64\n",
      "dtypes: float64(74)\n",
      "memory usage: 937.5 KB\n",
      "None\n"
     ]
    }
   ],
   "source": [
    "# Explore test set\n",
    "print(X_test.info())"
   ]
  },
  {
   "cell_type": "markdown",
   "metadata": {
    "id": "1SVLEBoRLRrt"
   },
   "source": [
    "**Standardize the data**"
   ]
  },
  {
   "cell_type": "code",
   "execution_count": 19,
   "metadata": {
    "id": "argX11ioLXuW"
   },
   "outputs": [],
   "source": [
    "scaler = StandardScaler()\n",
    "scaler.fit(X_train)\n",
    "X_train_scaled = scaler.transform(X_train)\n",
    "X_test_scaled = scaler.transform(X_test)"
   ]
  },
  {
   "cell_type": "code",
   "execution_count": 30,
   "metadata": {
    "id": "MXhx5PJTysp5"
   },
   "outputs": [
    {
     "data": {
      "text/plain": [
       "90.86954950356743"
      ]
     },
     "execution_count": 30,
     "metadata": {},
     "output_type": "execute_result"
    }
   ],
   "source": [
    "#SelectKBest(f_classif, k=20).fit_transform(X_train, Y_train)\n",
    "f_classif(X_train_scaled, Y_train)\n",
    "np.mean(f_classif(X_train_scaled, Y_train)[0])"
   ]
  },
  {
   "cell_type": "code",
   "execution_count": null,
   "metadata": {
    "id": "vQEC1ZSBNMAi"
   },
   "outputs": [],
   "source": []
  },
  {
   "cell_type": "code",
   "execution_count": 31,
   "metadata": {
    "id": "Og5QDXhXNMD9"
   },
   "outputs": [
    {
     "data": {
      "text/plain": [
       "RandomForestClassifier(n_estimators=200)"
      ]
     },
     "execution_count": 31,
     "metadata": {},
     "output_type": "execute_result"
    }
   ],
   "source": [
    "from sklearn.ensemble import RandomForestClassifier\n",
    "from sklearn.datasets import make_classification\n",
    "clf=RandomForestClassifier(n_estimators=200)\n",
    "clf.fit(X_train_scaled,Y_train)"
   ]
  },
  {
   "cell_type": "code",
   "execution_count": 32,
   "metadata": {
    "id": "14OAyYdDNvLC"
   },
   "outputs": [],
   "source": [
    "Y_pred=clf.predict(X_test_scaled)"
   ]
  },
  {
   "cell_type": "code",
   "execution_count": 33,
   "metadata": {
    "id": "sZgDkT4UNxrN"
   },
   "outputs": [
    {
     "name": "stdout",
     "output_type": "stream",
     "text": [
      "Accuracy: 0.191875\n"
     ]
    }
   ],
   "source": [
    "from sklearn import metrics\n",
    "print(\"Accuracy:\",metrics.accuracy_score(Y_test, Y_pred))"
   ]
  },
  {
   "cell_type": "code",
   "execution_count": 24,
   "metadata": {
    "id": "CSEj3U-PZYxy"
   },
   "outputs": [
    {
     "data": {
      "text/plain": [
       "array([0.00965372, 0.00974299, 0.00966478, 0.00980095, 0.0099061 ,\n",
       "       0.00920994, 0.00963905, 0.00925123, 0.0099263 , 0.00968191,\n",
       "       0.00971167, 0.00916165, 0.01036284, 0.01058535, 0.00984182,\n",
       "       0.01061675, 0.01042772, 0.00955916, 0.0101983 , 0.00967755,\n",
       "       0.01009687, 0.00989642, 0.00999759, 0.00995545, 0.01218817,\n",
       "       0.01199017, 0.01063671, 0.01302285, 0.01186707, 0.01191829,\n",
       "       0.01145303, 0.01114634, 0.01260594, 0.01049602, 0.01359741,\n",
       "       0.0119318 , 0.02482216, 0.02109742, 0.02174282, 0.01704594,\n",
       "       0.01576947, 0.0123625 , 0.01162175, 0.01309763, 0.01379178,\n",
       "       0.01234827, 0.01416356, 0.01257409, 0.01442775, 0.01513368,\n",
       "       0.01788597, 0.01629334, 0.01587594, 0.0130558 , 0.01247122,\n",
       "       0.01349095, 0.01973707, 0.02449937, 0.02104505, 0.01604332,\n",
       "       0.02339794, 0.02447709, 0.02179611, 0.02286372, 0.01862362,\n",
       "       0.01443577, 0.02286513, 0.01176779, 0.01145851, 0.00958718,\n",
       "       0.01017385, 0.01059146, 0.01074872, 0.01739634])"
      ]
     },
     "execution_count": 24,
     "metadata": {},
     "output_type": "execute_result"
    }
   ],
   "source": [
    "clf.feature_importances_"
   ]
  },
  {
   "cell_type": "code",
   "execution_count": 25,
   "metadata": {
    "id": "xgZry7Y5jYqr"
   },
   "outputs": [
    {
     "name": "stdout",
     "output_type": "stream",
     "text": [
      "[[ 13 164   8   2   5   3   8   0]\n",
      " [  9 124  19   1  15  11   2   0]\n",
      " [  2  86  69   0  34  10   3   0]\n",
      " [ 11 182   5   6   4   4   7   0]\n",
      " [  3  95  31   2  39  10   4   0]\n",
      " [  7 129  16   1  13  26   6   0]\n",
      " [  4 148  12   1  17  12   9   0]\n",
      " [  2 151  21   0  21   5   8   0]]\n"
     ]
    },
    {
     "data": {
      "image/png": "[encoded data removed]",
      "text/plain": [
       "<Figure size 432x288 with 2 Axes>"
      ]
     },
     "metadata": {
      "needs_background": "light"
     },
     "output_type": "display_data"
    }
   ],
   "source": [
    "conf_matrix = metrics.confusion_matrix(Y_test,Y_pred)\n",
    "sns.heatmap(conf_matrix, annot = True, fmt = \".2f\", square = True, cmap = plt.cm.Blues)\n",
    "plt.ylabel('Actual')\n",
    "plt.xlabel('Predicted')\n",
    "plt.title('Confusion matrix')\n",
    "plt.tight_layout()\n",
    "print(conf_matrix)"
   ]
  },
  {
   "cell_type": "code",
   "execution_count": 26,
   "metadata": {
    "id": "FB88dw6WZc7I"
   },
   "outputs": [
    {
     "name": "stdout",
     "output_type": "stream",
     "text": [
      "Accuracy 0.17875 \n",
      "Error 0.82125 \n",
      "Precision [0.25490196 0.11492122 0.38121547 0.46153846 0.26351351 0.32098765\n",
      " 0.19148936 0.        ] \n",
      "Recall [0.06403941 0.68508287 0.33823529 0.02739726 0.21195652 0.13131313\n",
      " 0.04433498 0.        ] \n",
      "F1_score [0.1023622  0.1968254  0.35844156 0.05172414 0.23493976 0.18637993\n",
      " 0.072      0.        ]\n"
     ]
    },
    {
     "name": "stderr",
     "output_type": "stream",
     "text": [
      "/Users/saurabh/PycharmProjects/IDS/venv/lib/python3.6/site-packages/sklearn/metrics/_classification.py:1221: UndefinedMetricWarning:\n",
      "\n",
      "Precision is ill-defined and being set to 0.0 in labels with no predicted samples. Use `zero_division` parameter to control this behavior.\n",
      "\n"
     ]
    }
   ],
   "source": [
    "accuracy = metrics.accuracy_score(Y_test, Y_pred)\n",
    "error = 1 - accuracy\n",
    "precision = metrics.precision_score(Y_test, Y_pred, average = None)\n",
    "recall = metrics.recall_score(Y_test, Y_pred, average = None)\n",
    "F1_score = metrics.f1_score(Y_test, Y_pred, average = None)\n",
    "print(\"Accuracy\",accuracy,\"\\nError\", error,\"\\nPrecision\", precision,\"\\nRecall\", recall,\"\\nF1_score\", F1_score)"
   ]
  },
  {
   "cell_type": "code",
   "execution_count": null,
   "metadata": {
    "id": "TTHdk4GvPgYN"
   },
   "outputs": [],
   "source": []
  },
  {
   "cell_type": "markdown",
   "metadata": {
    "id": "oXdu_U2j_v2Y"
   },
   "source": [
    "**Top features**"
   ]
  },
  {
   "cell_type": "code",
   "execution_count": 27,
   "metadata": {
    "id": "GVr9NA18X8hI"
   },
   "outputs": [
    {
     "name": "stdout",
     "output_type": "stream",
     "text": [
      "Feature ranking:\n",
      "1. feature 36 (0.026663)\n",
      "2. feature 57 (0.024747)\n",
      "3. feature 60 (0.024338)\n",
      "4. feature 61 (0.023707)\n",
      "5. feature 63 (0.023334)\n",
      "6. feature 38 (0.022609)\n",
      "7. feature 66 (0.022507)\n",
      "8. feature 58 (0.021945)\n",
      "9. feature 62 (0.021045)\n",
      "10. feature 37 (0.019951)\n",
      "11. feature 56 (0.019120)\n",
      "12. feature 64 (0.017961)\n",
      "13. feature 50 (0.017436)\n",
      "14. feature 73 (0.017359)\n",
      "15. feature 39 (0.017259)\n",
      "16. feature 52 (0.016277)\n",
      "17. feature 59 (0.016038)\n",
      "18. feature 49 (0.015812)\n",
      "19. feature 40 (0.015580)\n",
      "20. feature 51 (0.015165)\n",
      "21. feature 48 (0.014441)\n",
      "22. feature 34 (0.014113)\n",
      "23. feature 46 (0.013853)\n",
      "24. feature 65 (0.013838)\n",
      "25. feature 44 (0.013411)\n",
      "26. feature 55 (0.013402)\n",
      "27. feature 43 (0.013385)\n",
      "28. feature 53 (0.013384)\n",
      "29. feature 27 (0.012806)\n",
      "30. feature 32 (0.012730)\n",
      "31. feature 54 (0.012663)\n",
      "32. feature 41 (0.012623)\n",
      "33. feature 45 (0.012408)\n",
      "34. feature 47 (0.012383)\n",
      "35. feature 28 (0.012320)\n",
      "36. feature 42 (0.012216)\n",
      "37. feature 24 (0.011993)\n",
      "38. feature 25 (0.011914)\n",
      "39. feature 67 (0.011862)\n",
      "40. feature 68 (0.011737)\n",
      "41. feature 29 (0.011562)\n",
      "42. feature 35 (0.011463)\n",
      "43. feature 31 (0.011353)\n",
      "44. feature 30 (0.010975)\n",
      "45. feature 33 (0.010701)\n",
      "46. feature 26 (0.010664)\n",
      "47. feature 13 (0.010654)\n",
      "48. feature 16 (0.010547)\n",
      "49. feature 71 (0.010456)\n",
      "50. feature 70 (0.010421)\n",
      "51. feature 15 (0.010339)\n",
      "52. feature 72 (0.010288)\n",
      "53. feature 12 (0.010169)\n",
      "54. feature 14 (0.010045)\n",
      "55. feature 17 (0.010039)\n",
      "56. feature 69 (0.009910)\n",
      "57. feature 21 (0.009893)\n",
      "58. feature 23 (0.009882)\n",
      "59. feature 10 (0.009867)\n",
      "60. feature 20 (0.009855)\n",
      "61. feature 18 (0.009849)\n",
      "62. feature 22 (0.009822)\n",
      "63. feature 8 (0.009773)\n",
      "64. feature 1 (0.009746)\n",
      "65. feature 9 (0.009690)\n",
      "66. feature 3 (0.009661)\n",
      "67. feature 2 (0.009610)\n",
      "68. feature 6 (0.009603)\n",
      "69. feature 4 (0.009588)\n",
      "70. feature 19 (0.009582)\n",
      "71. feature 5 (0.009552)\n",
      "72. feature 7 (0.009423)\n",
      "73. feature 0 (0.009420)\n",
      "74. feature 11 (0.009266)\n"
     ]
    },
    {
     "data": {
      "image/png": "[encoded data removed]",
      "text/plain": [
       "<Figure size 432x288 with 1 Axes>"
      ]
     },
     "metadata": {
      "needs_background": "light"
     },
     "output_type": "display_data"
    }
   ],
   "source": [
    "import numpy as np\n",
    "import matplotlib.pyplot as plt\n",
    "\n",
    "from sklearn.datasets import make_classification\n",
    "from sklearn.ensemble import ExtraTreesClassifier\n",
    "\n",
    "# Build a classification task using 3 informative features\n",
    "# X, y = make_classification(n_samples=1000,\n",
    "#                            n_features=10,\n",
    "#                            n_informative=3,\n",
    "#                            n_redundant=0,\n",
    "#                            n_repeated=0,\n",
    "#                            n_classes=2,\n",
    "#                            random_state=0,\n",
    "#                            shuffle=False)\n",
    "\n",
    "# Build a forest and compute the impurity-based feature importances\n",
    "forest = clf=RandomForestClassifier(n_estimators=250,\n",
    "                              random_state=0)\n",
    "\n",
    "forest.fit(X_train_scaled, Y_train)\n",
    "importances = forest.feature_importances_\n",
    "std = np.std([tree.feature_importances_ for tree in forest.estimators_],\n",
    "             axis=0)\n",
    "indices = np.argsort(importances)[::-1]\n",
    "\n",
    "# Print the feature ranking\n",
    "print(\"Feature ranking:\")\n",
    "\n",
    "for f in range(X_train_scaled.shape[1]):\n",
    "    print(\"%d. feature %d (%f)\" % (f + 1, indices[f], importances[indices[f]]))\n",
    "\n",
    "# Plot the impurity-based feature importances of the forest\n",
    "plt.figure()\n",
    "plt.title(\"Feature importances\")\n",
    "plt.bar(range(X_train_scaled.shape[1]), importances[indices],\n",
    "        color=\"r\", yerr=std[indices], align=\"center\")\n",
    "plt.xticks(range(X_train_scaled.shape[1]), indices)\n",
    "plt.xlim([-1, X_train_scaled.shape[1]])\n",
    "plt.show()"
   ]
  },
  {
   "cell_type": "code",
   "execution_count": null,
   "metadata": {
    "id": "cEnV1DbAgT4s"
   },
   "outputs": [],
   "source": []
  },
  {
   "cell_type": "markdown",
   "metadata": {
    "id": "aDkHw0ZVBHiw"
   },
   "source": [
    "**Cross validation**"
   ]
  },
  {
   "cell_type": "code",
   "execution_count": 34,
   "metadata": {
    "id": "yTSqCm0u0ScI"
   },
   "outputs": [
    {
     "name": "stdout",
     "output_type": "stream",
     "text": [
      "{100: {'criterion': 'entropy', 'cv_score': 0.47287754303599366, 'n_estimators': 100}, 200: {'criterion': 'entropy', 'cv_score': 0.4783497163536777, 'n_estimators': 200}, 300: {'criterion': 'gini', 'cv_score': 0.4856951780125195, 'n_estimators': 300}}\n"
     ]
    }
   ],
   "source": [
    "cv_scores_dict = {}\n",
    "criterion_list = ['gini', 'entropy']\n",
    "for n_estimators in [100, 200, 300]:\n",
    "    cv_scores = []\n",
    "    for criterion in criterion_list:    \n",
    "        RM_model = RandomForestClassifier(n_estimators = n_estimators, criterion=criterion)\n",
    "        cv_scores.append(np.mean(cross_val_score(RM_model, X_train_scaled, Y_train, cv=10,n_jobs=-1)))\n",
    "    max_cv_score = max(cv_scores)\n",
    "    max_criterion = criterion_list[cv_scores.index(max_cv_score)]\n",
    "    cv_scores_dict[n_estimators] = {'criterion': max_criterion, 'cv_score': max_cv_score, 'n_estimators': n_estimators}\n",
    "print(cv_scores_dict)"
   ]
  },
  {
   "cell_type": "code",
   "execution_count": null,
   "metadata": {
    "id": "4AFb2ROjwmUn"
   },
   "outputs": [],
   "source": []
  },
  {
   "cell_type": "code",
   "execution_count": null,
   "metadata": {
    "id": "grWVQZw9wmYR"
   },
   "outputs": [
    {
     "name": "stdout",
     "output_type": "stream",
     "text": [
      "Automatically created module for IPython interactive environment\n"
     ]
    }
   ],
   "source": [
    "#modules for hyperparameter optimization\n",
    "\n",
    "print(__doc__)\n",
    "import numpy as np\n",
    "from time import time\n",
    "from operator import itemgetter\n",
    "from scipy.stats import randint as sp_randint\n",
    "\n",
    "from sklearn.model_selection import GridSearchCV\n",
    "from sklearn.model_selection import RandomizedSearchCV\n",
    "from sklearn.datasets import load_digits\n",
    "from sklearn.ensemble import RandomForestClassifier\n",
    "\n",
    "\n",
    "# build a classifier\n",
    "clf = RandomForestClassifier(n_estimators=20)\n",
    "\n",
    "# Utility function to report best scores\n",
    "def report(grid_scores, n_top=3):\n",
    "    top_scores = sorted(grid_scores, key=itemgetter(1), reverse=True)[:n_top]\n",
    "    for i, score in enumerate(top_scores):\n",
    "        print(\"Model with rank: {0}\".format(i + 1))\n",
    "\n",
    "#since the score is null \"Nan\" is treated as string and hence error below\n",
    "\n",
    "        print(\"Mean validation score: {0:.3f} (std: {1:.3f})\".format(\n",
    "              score.mean_validation_score,\n",
    "              np.std(score.cv_validation_scores)))\n",
    "        print(\"Parameters: {0}\".format(score.parameters))\n",
    "        print(\"\")\n",
    "\n",
    "\n",
    "# specify parameters space\n",
    "param_dist = {\"max_depth\": [3, None],\n",
    "              \"max_features\": sp_randint(1, 11),\n",
    "              \"min_samples_split\": sp_randint(2, 11),\n",
    "              \"min_samples_leaf\": sp_randint(2, 11),\n",
    "              \"bootstrap\": [True, False],\n",
    "              \"criterion\": [\"gini\", \"entropy\"]}\n",
    "\n",
    "# run randomized search\n",
    "n_iter_search = 20\n",
    "random_search = RandomizedSearchCV(clf, param_distributions=param_dist,\n",
    "                                   n_iter=n_iter_search)\n",
    "\n",
    "start = time()\n",
    "random_search.fit(X_train_scaled, Y_train)\n",
    "print(\"RandomizedSearchCV took %.2f seconds for %d candidates\"\n",
    "      \" parameter settings.\" % ((time() - start), n_iter_search))\n",
    "report(random_search.cv_results_)\n",
    "#print(random.parameters)"
   ]
  }
 ],
 "metadata": {
  "colab": {
   "collapsed_sections": [],
   "include_colab_link": true,
   "name": "RF.ipynb",
   "private_outputs": true,
   "provenance": []
  },
  "kernelspec": {
   "display_name": "Python 3",
   "language": "python",
   "name": "python3"
  },
  "language_info": {
   "codemirror_mode": {
    "name": "ipython",
    "version": 3
   },
   "file_extension": ".py",
   "mimetype": "text/x-python",
   "name": "python",
   "nbconvert_exporter": "python",
   "pygments_lexer": "ipython3",
   "version": "3.6.5"
  }
 },
 "nbformat": 4,
 "nbformat_minor": 1
}
