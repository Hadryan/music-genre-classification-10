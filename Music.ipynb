{
 "cells": [
  {
   "cell_type": "code",
   "execution_count": 1,
   "metadata": {},
   "outputs": [],
   "source": [
    "import pandas as pd\n",
    "import os"
   ]
  },
  {
   "cell_type": "code",
   "execution_count": 2,
   "metadata": {},
   "outputs": [],
   "source": [
    "#Get the track ids from the audio files\n",
    "tracks_id = []\n",
    "root_path = r'../fma_small'\n",
    "for path, subdirs, files in os.walk(root_path):\n",
    "    for name in files:\n",
    "        if name.endswith(\".mp3\"):\n",
    "            tracks_id.append(name.split(\".\")[0])"
   ]
  },
  {
   "cell_type": "code",
   "execution_count": 3,
   "metadata": {},
   "outputs": [
    {
     "data": {
      "text/plain": [
       "8000"
      ]
     },
     "execution_count": 3,
     "metadata": {},
     "output_type": "execute_result"
    }
   ],
   "source": [
    "len(tracks_id)"
   ]
  },
  {
   "cell_type": "code",
   "execution_count": 4,
   "metadata": {},
   "outputs": [
    {
     "name": "stdout",
     "output_type": "stream",
     "text": [
      "track_id        109727\n",
      "track_genres    107118\n",
      "dtype: int64\n"
     ]
    }
   ],
   "source": [
    "#Get track information from raw_tracks.csv\n",
    "raw_tracks = pd.read_csv(\"../fma_metadata/raw_tracks.csv\")[[\"track_id\", \"track_genres\"]]\n",
    "print (raw_tracks.count())"
   ]
  },
  {
   "cell_type": "code",
   "execution_count": 5,
   "metadata": {},
   "outputs": [
    {
     "name": "stdout",
     "output_type": "stream",
     "text": [
      "track_id        8000\n",
      "track_genres    8000\n",
      "dtype: int64\n"
     ]
    }
   ],
   "source": [
    "#Shrink raw_tracks to get the genre for the 8k audio clips\n",
    "final_track_list = raw_tracks[raw_tracks['track_id'].isin(tracks_id)]\n",
    "print(final_track_list.count())"
   ]
  },
  {
   "cell_type": "code",
   "execution_count": 6,
   "metadata": {},
   "outputs": [],
   "source": [
    "#Expand the genre nested dict to columns and rows\n",
    "import json\n",
    "new_tracks = pd.DataFrame(columns = ['track_id', 'genre_id', 'genre_title', 'genre_parent_id', 'genre_parent_title'])\n",
    "for idx, row in final_track_list.iterrows():\n",
    "    genres = json.loads(row['track_genres'].replace('\\'','\"'))\n",
    "    for genre in genres:\n",
    "        new_tracks = new_tracks.append({'track_id': row['track_id'], 'genre_id': int(genre['genre_id']), 'genre_title':genre['genre_title'] }, ignore_index=True)\n",
    "        "
   ]
  },
  {
   "cell_type": "code",
   "execution_count": 7,
   "metadata": {},
   "outputs": [
    {
     "data": {
      "text/html": [
       "<div>\n",
       "<style scoped>\n",
       "    .dataframe tbody tr th:only-of-type {\n",
       "        vertical-align: middle;\n",
       "    }\n",
       "\n",
       "    .dataframe tbody tr th {\n",
       "        vertical-align: top;\n",
       "    }\n",
       "\n",
       "    .dataframe thead th {\n",
       "        text-align: right;\n",
       "    }\n",
       "</style>\n",
       "<table border=\"1\" class=\"dataframe\">\n",
       "  <thead>\n",
       "    <tr style=\"text-align: right;\">\n",
       "      <th></th>\n",
       "      <th>track_id</th>\n",
       "      <th>genre_id</th>\n",
       "      <th>genre_title</th>\n",
       "      <th>genre_parent_id</th>\n",
       "      <th>genre_parent_title</th>\n",
       "    </tr>\n",
       "  </thead>\n",
       "  <tbody>\n",
       "    <tr>\n",
       "      <th>0</th>\n",
       "      <td>2</td>\n",
       "      <td>21</td>\n",
       "      <td>Hip-Hop</td>\n",
       "      <td>NaN</td>\n",
       "      <td>NaN</td>\n",
       "    </tr>\n",
       "    <tr>\n",
       "      <th>1</th>\n",
       "      <td>5</td>\n",
       "      <td>21</td>\n",
       "      <td>Hip-Hop</td>\n",
       "      <td>NaN</td>\n",
       "      <td>NaN</td>\n",
       "    </tr>\n",
       "    <tr>\n",
       "      <th>2</th>\n",
       "      <td>10</td>\n",
       "      <td>10</td>\n",
       "      <td>Pop</td>\n",
       "      <td>NaN</td>\n",
       "      <td>NaN</td>\n",
       "    </tr>\n",
       "    <tr>\n",
       "      <th>3</th>\n",
       "      <td>140</td>\n",
       "      <td>17</td>\n",
       "      <td>Folk</td>\n",
       "      <td>NaN</td>\n",
       "      <td>NaN</td>\n",
       "    </tr>\n",
       "    <tr>\n",
       "      <th>4</th>\n",
       "      <td>141</td>\n",
       "      <td>17</td>\n",
       "      <td>Folk</td>\n",
       "      <td>NaN</td>\n",
       "      <td>NaN</td>\n",
       "    </tr>\n",
       "  </tbody>\n",
       "</table>\n",
       "</div>"
      ],
      "text/plain": [
       "  track_id genre_id genre_title genre_parent_id genre_parent_title\n",
       "0        2       21     Hip-Hop             NaN                NaN\n",
       "1        5       21     Hip-Hop             NaN                NaN\n",
       "2       10       10         Pop             NaN                NaN\n",
       "3      140       17        Folk             NaN                NaN\n",
       "4      141       17        Folk             NaN                NaN"
      ]
     },
     "execution_count": 7,
     "metadata": {},
     "output_type": "execute_result"
    }
   ],
   "source": [
    "new_tracks.head()"
   ]
  },
  {
   "cell_type": "code",
   "execution_count": 8,
   "metadata": {},
   "outputs": [
    {
     "data": {
      "text/plain": [
       "track_id              13246\n",
       "genre_id              13246\n",
       "genre_title           13246\n",
       "genre_parent_id           0\n",
       "genre_parent_title        0\n",
       "dtype: int64"
      ]
     },
     "execution_count": 8,
     "metadata": {},
     "output_type": "execute_result"
    }
   ],
   "source": [
    "new_tracks.count()"
   ]
  },
  {
   "cell_type": "code",
   "execution_count": 9,
   "metadata": {},
   "outputs": [
    {
     "data": {
      "text/html": [
       "<div>\n",
       "<style scoped>\n",
       "    .dataframe tbody tr th:only-of-type {\n",
       "        vertical-align: middle;\n",
       "    }\n",
       "\n",
       "    .dataframe tbody tr th {\n",
       "        vertical-align: top;\n",
       "    }\n",
       "\n",
       "    .dataframe thead th {\n",
       "        text-align: right;\n",
       "    }\n",
       "</style>\n",
       "<table border=\"1\" class=\"dataframe\">\n",
       "  <thead>\n",
       "    <tr style=\"text-align: right;\">\n",
       "      <th></th>\n",
       "      <th>track_id</th>\n",
       "      <th>genre_id</th>\n",
       "      <th>genre_title</th>\n",
       "      <th>genre_parent_id</th>\n",
       "      <th>genre_parent_title</th>\n",
       "    </tr>\n",
       "  </thead>\n",
       "  <tbody>\n",
       "    <tr>\n",
       "      <th>54</th>\n",
       "      <td>825</td>\n",
       "      <td>45</td>\n",
       "      <td>Loud-Rock</td>\n",
       "      <td>NaN</td>\n",
       "      <td>NaN</td>\n",
       "    </tr>\n",
       "    <tr>\n",
       "      <th>55</th>\n",
       "      <td>825</td>\n",
       "      <td>58</td>\n",
       "      <td>Psych-Rock</td>\n",
       "      <td>NaN</td>\n",
       "      <td>NaN</td>\n",
       "    </tr>\n",
       "    <tr>\n",
       "      <th>56</th>\n",
       "      <td>825</td>\n",
       "      <td>66</td>\n",
       "      <td>Indie-Rock</td>\n",
       "      <td>NaN</td>\n",
       "      <td>NaN</td>\n",
       "    </tr>\n",
       "    <tr>\n",
       "      <th>148</th>\n",
       "      <td>3624</td>\n",
       "      <td>89</td>\n",
       "      <td>Post-Punk</td>\n",
       "      <td>NaN</td>\n",
       "      <td>NaN</td>\n",
       "    </tr>\n",
       "    <tr>\n",
       "      <th>152</th>\n",
       "      <td>3720</td>\n",
       "      <td>58</td>\n",
       "      <td>Psych-Rock</td>\n",
       "      <td>NaN</td>\n",
       "      <td>NaN</td>\n",
       "    </tr>\n",
       "    <tr>\n",
       "      <th>...</th>\n",
       "      <td>...</td>\n",
       "      <td>...</td>\n",
       "      <td>...</td>\n",
       "      <td>...</td>\n",
       "      <td>...</td>\n",
       "    </tr>\n",
       "    <tr>\n",
       "      <th>13237</th>\n",
       "      <td>154308</td>\n",
       "      <td>539</td>\n",
       "      <td>Rap</td>\n",
       "      <td>NaN</td>\n",
       "      <td>NaN</td>\n",
       "    </tr>\n",
       "    <tr>\n",
       "      <th>13238</th>\n",
       "      <td>154308</td>\n",
       "      <td>811</td>\n",
       "      <td>Hip-Hop Beats</td>\n",
       "      <td>NaN</td>\n",
       "      <td>NaN</td>\n",
       "    </tr>\n",
       "    <tr>\n",
       "      <th>13240</th>\n",
       "      <td>154309</td>\n",
       "      <td>539</td>\n",
       "      <td>Rap</td>\n",
       "      <td>NaN</td>\n",
       "      <td>NaN</td>\n",
       "    </tr>\n",
       "    <tr>\n",
       "      <th>13241</th>\n",
       "      <td>154309</td>\n",
       "      <td>811</td>\n",
       "      <td>Hip-Hop Beats</td>\n",
       "      <td>NaN</td>\n",
       "      <td>NaN</td>\n",
       "    </tr>\n",
       "    <tr>\n",
       "      <th>13245</th>\n",
       "      <td>155066</td>\n",
       "      <td>811</td>\n",
       "      <td>Hip-Hop Beats</td>\n",
       "      <td>NaN</td>\n",
       "      <td>NaN</td>\n",
       "    </tr>\n",
       "  </tbody>\n",
       "</table>\n",
       "<p>5246 rows × 5 columns</p>\n",
       "</div>"
      ],
      "text/plain": [
       "      track_id genre_id    genre_title genre_parent_id genre_parent_title\n",
       "54         825       45      Loud-Rock             NaN                NaN\n",
       "55         825       58     Psych-Rock             NaN                NaN\n",
       "56         825       66     Indie-Rock             NaN                NaN\n",
       "148       3624       89      Post-Punk             NaN                NaN\n",
       "152       3720       58     Psych-Rock             NaN                NaN\n",
       "...        ...      ...            ...             ...                ...\n",
       "13237   154308      539            Rap             NaN                NaN\n",
       "13238   154308      811  Hip-Hop Beats             NaN                NaN\n",
       "13240   154309      539            Rap             NaN                NaN\n",
       "13241   154309      811  Hip-Hop Beats             NaN                NaN\n",
       "13245   155066      811  Hip-Hop Beats             NaN                NaN\n",
       "\n",
       "[5246 rows x 5 columns]"
      ]
     },
     "execution_count": 9,
     "metadata": {},
     "output_type": "execute_result"
    }
   ],
   "source": [
    "#Display the duplicated rows\n",
    "new_tracks[new_tracks.duplicated('track_id')]"
   ]
  },
  {
   "cell_type": "code",
   "execution_count": 10,
   "metadata": {},
   "outputs": [],
   "source": [
    "#Get the parent genres from raw_genre.csv\n",
    "raw_genres = pd.read_csv(\"../fma_metadata/raw_genres.csv\")[[\"genre_id\", \"genre_parent_id\", \"genre_title\"]]"
   ]
  },
  {
   "cell_type": "code",
   "execution_count": 11,
   "metadata": {},
   "outputs": [
    {
     "data": {
      "text/plain": [
       "genre_id           164\n",
       "genre_parent_id    149\n",
       "genre_title        164\n",
       "dtype: int64"
      ]
     },
     "execution_count": 11,
     "metadata": {},
     "output_type": "execute_result"
    }
   ],
   "source": [
    "raw_genres.count()"
   ]
  },
  {
   "cell_type": "code",
   "execution_count": 12,
   "metadata": {},
   "outputs": [
    {
     "data": {
      "text/html": [
       "<div>\n",
       "<style scoped>\n",
       "    .dataframe tbody tr th:only-of-type {\n",
       "        vertical-align: middle;\n",
       "    }\n",
       "\n",
       "    .dataframe tbody tr th {\n",
       "        vertical-align: top;\n",
       "    }\n",
       "\n",
       "    .dataframe thead th {\n",
       "        text-align: right;\n",
       "    }\n",
       "</style>\n",
       "<table border=\"1\" class=\"dataframe\">\n",
       "  <thead>\n",
       "    <tr style=\"text-align: right;\">\n",
       "      <th></th>\n",
       "      <th>genre_id</th>\n",
       "      <th>genre_parent_id</th>\n",
       "      <th>genre_title</th>\n",
       "    </tr>\n",
       "  </thead>\n",
       "  <tbody>\n",
       "    <tr>\n",
       "      <th>35</th>\n",
       "      <td>45</td>\n",
       "      <td>12.0</td>\n",
       "      <td>Loud-Rock</td>\n",
       "    </tr>\n",
       "  </tbody>\n",
       "</table>\n",
       "</div>"
      ],
      "text/plain": [
       "    genre_id  genre_parent_id genre_title\n",
       "35        45             12.0   Loud-Rock"
      ]
     },
     "execution_count": 12,
     "metadata": {},
     "output_type": "execute_result"
    }
   ],
   "source": [
    "raw_genres[raw_genres['genre_id']==45]"
   ]
  },
  {
   "cell_type": "code",
   "execution_count": 13,
   "metadata": {},
   "outputs": [
    {
     "name": "stdout",
     "output_type": "stream",
     "text": [
      "     genre_id  genre_parent_id          genre_title\n",
      "1           2              NaN        International\n",
      "2           3              NaN                Blues\n",
      "3           4              NaN                 Jazz\n",
      "4           5              NaN            Classical\n",
      "7           8              NaN  Old-Time / Historic\n",
      "8           9              NaN              Country\n",
      "9          10              NaN                  Pop\n",
      "11         12              NaN                 Rock\n",
      "13         14              NaN             Soul-RnB\n",
      "14         15              NaN           Electronic\n",
      "16         17              NaN                 Folk\n",
      "19         20              NaN               Spoken\n",
      "20         21              NaN              Hip-Hop\n",
      "31         38              NaN         Experimental\n",
      "163      1235              NaN         Instrumental\n"
     ]
    }
   ],
   "source": [
    "#Get the main genres - all other genres are subset of these\n",
    "top_genres = raw_genres[raw_genres.genre_parent_id.isna()]\n",
    "print(top_genres)"
   ]
  },
  {
   "cell_type": "code",
   "execution_count": 14,
   "metadata": {},
   "outputs": [
    {
     "data": {
      "text/plain": [
       "genre_id           164\n",
       "genre_parent_id    149\n",
       "genre_title        164\n",
       "dtype: int64"
      ]
     },
     "execution_count": 14,
     "metadata": {},
     "output_type": "execute_result"
    }
   ],
   "source": [
    "raw_genres.count()"
   ]
  },
  {
   "cell_type": "code",
   "execution_count": 15,
   "metadata": {},
   "outputs": [
    {
     "data": {
      "text/plain": [
       "genre_id           149\n",
       "genre_parent_id    149\n",
       "genre_title        149\n",
       "dtype: int64"
      ]
     },
     "execution_count": 15,
     "metadata": {},
     "output_type": "execute_result"
    }
   ],
   "source": [
    "#Remove the parent genres\n",
    "raw_genres_updated = raw_genres[raw_genres.genre_parent_id.notna()]\n",
    "raw_genres_updated.count()"
   ]
  },
  {
   "cell_type": "code",
   "execution_count": 16,
   "metadata": {},
   "outputs": [
    {
     "data": {
      "text/plain": [
       "'Rock'"
      ]
     },
     "execution_count": 16,
     "metadata": {},
     "output_type": "execute_result"
    }
   ],
   "source": [
    "top_genres[top_genres['genre_id']==12].values[0][2]"
   ]
  },
  {
   "cell_type": "code",
   "execution_count": 17,
   "metadata": {
    "scrolled": true
   },
   "outputs": [],
   "source": [
    "#Get the parent genre IDs\n",
    "for idx, row in new_tracks.iterrows():\n",
    "    genre_row = raw_genres_updated[raw_genres_updated[\"genre_id\"]==row[\"genre_id\"]]\n",
    "    \n",
    "    if not genre_row.empty:\n",
    "        if int(genre_row[\"genre_parent_id\"]) in list(top_genres['genre_id']):\n",
    "            row['genre_parent_id'] = int(genre_row[\"genre_parent_id\"])\n",
    "            row['genre_parent_title'] = top_genres[top_genres['genre_id']==row[\"genre_parent_id\"]].values[0][2]\n",
    "        else:\n",
    "            row['genre_parent_id'] = None\n",
    "            row['genre_parent_title'] = None\n",
    "    else:\n",
    "        row['genre_parent_id'] = row['genre_id']\n",
    "        row['genre_parent_title'] = row.values[2]"
   ]
  },
  {
   "cell_type": "code",
   "execution_count": 18,
   "metadata": {
    "scrolled": true
   },
   "outputs": [
    {
     "data": {
      "text/plain": [
       "track_id              13246\n",
       "genre_id              13246\n",
       "genre_title           13246\n",
       "genre_parent_id       11957\n",
       "genre_parent_title    11957\n",
       "dtype: int64"
      ]
     },
     "execution_count": 18,
     "metadata": {},
     "output_type": "execute_result"
    }
   ],
   "source": [
    "new_tracks.count()"
   ]
  },
  {
   "cell_type": "code",
   "execution_count": 19,
   "metadata": {},
   "outputs": [
    {
     "data": {
      "text/html": [
       "<div>\n",
       "<style scoped>\n",
       "    .dataframe tbody tr th:only-of-type {\n",
       "        vertical-align: middle;\n",
       "    }\n",
       "\n",
       "    .dataframe tbody tr th {\n",
       "        vertical-align: top;\n",
       "    }\n",
       "\n",
       "    .dataframe thead th {\n",
       "        text-align: right;\n",
       "    }\n",
       "</style>\n",
       "<table border=\"1\" class=\"dataframe\">\n",
       "  <thead>\n",
       "    <tr style=\"text-align: right;\">\n",
       "      <th></th>\n",
       "      <th>track_id</th>\n",
       "      <th>genre_id</th>\n",
       "      <th>genre_title</th>\n",
       "      <th>genre_parent_id</th>\n",
       "      <th>genre_parent_title</th>\n",
       "    </tr>\n",
       "  </thead>\n",
       "  <tbody>\n",
       "    <tr>\n",
       "      <th>0</th>\n",
       "      <td>2</td>\n",
       "      <td>21</td>\n",
       "      <td>Hip-Hop</td>\n",
       "      <td>21</td>\n",
       "      <td>Hip-Hop</td>\n",
       "    </tr>\n",
       "    <tr>\n",
       "      <th>1</th>\n",
       "      <td>5</td>\n",
       "      <td>21</td>\n",
       "      <td>Hip-Hop</td>\n",
       "      <td>21</td>\n",
       "      <td>Hip-Hop</td>\n",
       "    </tr>\n",
       "    <tr>\n",
       "      <th>2</th>\n",
       "      <td>10</td>\n",
       "      <td>10</td>\n",
       "      <td>Pop</td>\n",
       "      <td>10</td>\n",
       "      <td>Pop</td>\n",
       "    </tr>\n",
       "    <tr>\n",
       "      <th>3</th>\n",
       "      <td>140</td>\n",
       "      <td>17</td>\n",
       "      <td>Folk</td>\n",
       "      <td>17</td>\n",
       "      <td>Folk</td>\n",
       "    </tr>\n",
       "    <tr>\n",
       "      <th>4</th>\n",
       "      <td>141</td>\n",
       "      <td>17</td>\n",
       "      <td>Folk</td>\n",
       "      <td>17</td>\n",
       "      <td>Folk</td>\n",
       "    </tr>\n",
       "  </tbody>\n",
       "</table>\n",
       "</div>"
      ],
      "text/plain": [
       "  track_id genre_id genre_title genre_parent_id genre_parent_title\n",
       "0        2       21     Hip-Hop              21            Hip-Hop\n",
       "1        5       21     Hip-Hop              21            Hip-Hop\n",
       "2       10       10         Pop              10                Pop\n",
       "3      140       17        Folk              17               Folk\n",
       "4      141       17        Folk              17               Folk"
      ]
     },
     "execution_count": 19,
     "metadata": {},
     "output_type": "execute_result"
    }
   ],
   "source": [
    "new_tracks.head()"
   ]
  },
  {
   "cell_type": "code",
   "execution_count": 20,
   "metadata": {},
   "outputs": [
    {
     "data": {
      "text/html": [
       "<div>\n",
       "<style scoped>\n",
       "    .dataframe tbody tr th:only-of-type {\n",
       "        vertical-align: middle;\n",
       "    }\n",
       "\n",
       "    .dataframe tbody tr th {\n",
       "        vertical-align: top;\n",
       "    }\n",
       "\n",
       "    .dataframe thead th {\n",
       "        text-align: right;\n",
       "    }\n",
       "</style>\n",
       "<table border=\"1\" class=\"dataframe\">\n",
       "  <thead>\n",
       "    <tr style=\"text-align: right;\">\n",
       "      <th></th>\n",
       "      <th>track_id</th>\n",
       "      <th>genre_id</th>\n",
       "      <th>genre_title</th>\n",
       "      <th>genre_parent_id</th>\n",
       "      <th>genre_parent_title</th>\n",
       "    </tr>\n",
       "  </thead>\n",
       "  <tbody>\n",
       "    <tr>\n",
       "      <th>151</th>\n",
       "      <td>3720</td>\n",
       "      <td>53</td>\n",
       "      <td>Noise-Rock</td>\n",
       "      <td>None</td>\n",
       "      <td>None</td>\n",
       "    </tr>\n",
       "    <tr>\n",
       "      <th>152</th>\n",
       "      <td>3720</td>\n",
       "      <td>58</td>\n",
       "      <td>Psych-Rock</td>\n",
       "      <td>12</td>\n",
       "      <td>Rock</td>\n",
       "    </tr>\n",
       "  </tbody>\n",
       "</table>\n",
       "</div>"
      ],
      "text/plain": [
       "    track_id genre_id genre_title genre_parent_id genre_parent_title\n",
       "151     3720       53  Noise-Rock            None               None\n",
       "152     3720       58  Psych-Rock              12               Rock"
      ]
     },
     "execution_count": 20,
     "metadata": {},
     "output_type": "execute_result"
    }
   ],
   "source": [
    "#Example:\n",
    "#here the genre_id maps to genre_parent_id = 45 but 45 points back to 12. So i kept it as None and later drop it.\n",
    "\n",
    "new_tracks[new_tracks['track_id']==3720]"
   ]
  },
  {
   "cell_type": "code",
   "execution_count": 21,
   "metadata": {},
   "outputs": [],
   "source": [
    "#Remove the None parent_genre_id rows (These are anyways duplicated) -> They are subset of same genre, as shown above\n",
    "new_tracks = new_tracks[new_tracks.genre_parent_id.notna()]"
   ]
  },
  {
   "cell_type": "code",
   "execution_count": 22,
   "metadata": {},
   "outputs": [
    {
     "data": {
      "text/plain": [
       "track_id              11957\n",
       "genre_id              11957\n",
       "genre_title           11957\n",
       "genre_parent_id       11957\n",
       "genre_parent_title    11957\n",
       "dtype: int64"
      ]
     },
     "execution_count": 22,
     "metadata": {},
     "output_type": "execute_result"
    }
   ],
   "source": [
    "new_tracks.count()"
   ]
  },
  {
   "cell_type": "code",
   "execution_count": 23,
   "metadata": {},
   "outputs": [],
   "source": [
    "#print(new_tracks[new_tracks.duplicated('track_id')].head())\n",
    "\n",
    "# Drop the duplicates \n",
    "new_tracks = new_tracks.drop_duplicates(subset=['track_id'])"
   ]
  },
  {
   "cell_type": "code",
   "execution_count": 24,
   "metadata": {},
   "outputs": [
    {
     "data": {
      "text/plain": [
       "track_id              7714\n",
       "genre_id              7714\n",
       "genre_title           7714\n",
       "genre_parent_id       7714\n",
       "genre_parent_title    7714\n",
       "dtype: int64"
      ]
     },
     "execution_count": 24,
     "metadata": {},
     "output_type": "execute_result"
    }
   ],
   "source": [
    "new_tracks.count()"
   ]
  },
  {
   "cell_type": "code",
   "execution_count": 25,
   "metadata": {},
   "outputs": [],
   "source": [
    "# Write to csv file\n",
    "new_tracks.to_csv('./final_tracks.csv', index=False)"
   ]
  },
  {
   "cell_type": "code",
   "execution_count": 26,
   "metadata": {
    "scrolled": true
   },
   "outputs": [
    {
     "data": {
      "text/plain": [
       "21      1000\n",
       "17      1000\n",
       "10      1000\n",
       "1235     996\n",
       "15       970\n",
       "38       932\n",
       "2        910\n",
       "12       906\n",
       "Name: genre_parent_id, dtype: int64"
      ]
     },
     "execution_count": 26,
     "metadata": {},
     "output_type": "execute_result"
    }
   ],
   "source": [
    "# Get all the genres\n",
    "new_tracks['genre_parent_id'].value_counts()"
   ]
  },
  {
   "cell_type": "code",
   "execution_count": 27,
   "metadata": {},
   "outputs": [
    {
     "data": {
      "text/html": [
       "<div>\n",
       "<style scoped>\n",
       "    .dataframe tbody tr th:only-of-type {\n",
       "        vertical-align: middle;\n",
       "    }\n",
       "\n",
       "    .dataframe tbody tr th {\n",
       "        vertical-align: top;\n",
       "    }\n",
       "\n",
       "    .dataframe thead th {\n",
       "        text-align: right;\n",
       "    }\n",
       "</style>\n",
       "<table border=\"1\" class=\"dataframe\">\n",
       "  <thead>\n",
       "    <tr style=\"text-align: right;\">\n",
       "      <th></th>\n",
       "      <th>track_id</th>\n",
       "      <th>genre_id</th>\n",
       "      <th>genre_title</th>\n",
       "      <th>genre_parent_id</th>\n",
       "      <th>genre_parent_title</th>\n",
       "    </tr>\n",
       "  </thead>\n",
       "  <tbody>\n",
       "  </tbody>\n",
       "</table>\n",
       "</div>"
      ],
      "text/plain": [
       "Empty DataFrame\n",
       "Columns: [track_id, genre_id, genre_title, genre_parent_id, genre_parent_title]\n",
       "Index: []"
      ]
     },
     "execution_count": 27,
     "metadata": {},
     "output_type": "execute_result"
    }
   ],
   "source": [
    "#Check for the duplicated rows -> There are none\n",
    "new_tracks[new_tracks.duplicated('track_id')]"
   ]
  },
  {
   "cell_type": "code",
   "execution_count": 29,
   "metadata": {},
   "outputs": [
    {
     "data": {
      "text/plain": [
       "<matplotlib.axes._subplots.AxesSubplot at 0x7fb90425bd90>"
      ]
     },
     "execution_count": 29,
     "metadata": {},
     "output_type": "execute_result"
    },
    {
     "data": {
      "image/png": "[encoded data removed]",
      "text/plain": [
       "<Figure size 432x288 with 1 Axes>"
      ]
     },
     "metadata": {
      "needs_background": "light"
     },
     "output_type": "display_data"
    }
   ],
   "source": [
    "new_tracks['genre_parent_title'].value_counts()[:].plot(kind='barh')"
   ]
  },
  {
   "cell_type": "code",
   "execution_count": null,
   "metadata": {},
   "outputs": [],
   "source": []
  }
 ],
 "metadata": {
  "kernelspec": {
   "display_name": "Python 3",
   "language": "python",
   "name": "python3"
  },
  "language_info": {
   "codemirror_mode": {
    "name": "ipython",
    "version": 3
   },
   "file_extension": ".py",
   "mimetype": "text/x-python",
   "name": "python",
   "nbconvert_exporter": "python",
   "pygments_lexer": "ipython3",
   "version": "3.8.3"
  }
 },
 "nbformat": 4,
 "nbformat_minor": 4
}
